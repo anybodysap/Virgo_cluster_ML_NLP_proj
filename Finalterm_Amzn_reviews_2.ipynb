{
 "cells": [
  {
   "cell_type": "markdown",
   "metadata": {
    "colab_type": "text",
    "id": "liiS-J479Gvt"
   },
   "source": [
    "# Final Term - Amazon Reviews"
   ]
  },
  {
   "cell_type": "markdown",
   "metadata": {
    "colab_type": "text",
    "id": "ebnN4ikZzQtu"
   },
   "source": [
    "## Datasets:\n",
    "Original dataset: \n",
    "https://www.kaggle.com/adityapatil673/critical-assessment-amazon-reviews-on-kindle/data"
   ]
  },
  {
   "cell_type": "code",
   "execution_count": 57,
   "metadata": {
    "colab": {
     "base_uri": "https://localhost:8080/",
     "height": 102
    },
    "colab_type": "code",
    "id": "vymCp8X8IHEk",
    "outputId": "71e6be37-59c8-4f11-c086-eb0564d60a80"
   },
   "outputs": [
    {
     "name": "stdout",
     "output_type": "stream",
     "text": [
      "[nltk_data] Downloading package vader_lexicon to\n",
      "[nltk_data]     /Users/yuxu/nltk_data...\n",
      "[nltk_data]   Package vader_lexicon is already up-to-date!\n",
      "[nltk_data] Downloading package punkt to /Users/yuxu/nltk_data...\n",
      "[nltk_data]   Package punkt is already up-to-date!\n",
      "[nltk_data] Downloading package stopwords to /Users/yuxu/nltk_data...\n",
      "[nltk_data]   Package stopwords is already up-to-date!\n",
      "[nltk_data] Downloading package wordnet to /Users/yuxu/nltk_data...\n",
      "[nltk_data]   Package wordnet is already up-to-date!\n"
     ]
    },
    {
     "data": {
      "text/plain": [
       "True"
      ]
     },
     "execution_count": 57,
     "metadata": {},
     "output_type": "execute_result"
    }
   ],
   "source": [
    "# dependencies\n",
    "import pandas as pd\n",
    "import nltk\n",
    "import numpy as np\n",
    "import io\n",
    "import requests\n",
    "from sklearn.feature_extraction.text import TfidfVectorizer\n",
    "from nltk import word_tokenize\n",
    "from nltk.corpus import stopwords\n",
    "# from sklearn.pipeline import Pipeline\n",
    "from sklearn.decomposition import TruncatedSVD\n",
    "from sklearn.feature_selection import chi2\n",
    "from string import punctuation\n",
    "from nltk import PorterStemmer\n",
    "import copy \n",
    "import re, math\n",
    "from sklearn.model_selection import train_test_split\n",
    "from nltk import WordNetLemmatizer\n",
    "from nltk import bigrams\n",
    "from nltk.util import ngrams\n",
    "from nltk.sentiment.vader import SentimentIntensityAnalyzer\n",
    "from gensim.models.ldamodel import LdaModel\n",
    "from gensim.models import Doc2Vec, Word2Vec\n",
    "from gensim.corpora import Dictionary\n",
    "import pickle\n",
    "from collections import Counter\n",
    "from sklearn.ensemble import RandomForestClassifier\n",
    "from sklearn.svm import SVC\n",
    "from sklearn.linear_model import LogisticRegression\n",
    "from sklearn.naive_bayes import GaussianNB\n",
    "from sklearn.metrics import accuracy_score, confusion_matrix, roc_auc_score\n",
    "from sklearn.model_selection import GridSearchCV\n",
    "from xgboost import XGBClassifier\n",
    "\n",
    "nltk.download('vader_lexicon')\n",
    "nltk.download('punkt')\n",
    "nltk.download('stopwords')\n",
    "nltk.download('wordnet')"
   ]
  },
  {
   "cell_type": "markdown",
   "metadata": {},
   "source": [
    "# Import data and generate data table with summary statistics"
   ]
  },
  {
   "cell_type": "code",
   "execution_count": 147,
   "metadata": {
    "colab": {},
    "colab_type": "code",
    "id": "VmVjSdSC5-DC",
    "scrolled": true
   },
   "outputs": [],
   "source": [
    "df = pd.read_csv('Datafiniti_Amazon_Consumer_Reviews_of_Amazon_Products.csv')"
   ]
  },
  {
   "cell_type": "code",
   "execution_count": 149,
   "metadata": {},
   "outputs": [
    {
     "data": {
      "text/plain": [
       "5000"
      ]
     },
     "execution_count": 149,
     "metadata": {},
     "output_type": "execute_result"
    }
   ],
   "source": [
    "len(df)"
   ]
  },
  {
   "cell_type": "code",
   "execution_count": 153,
   "metadata": {},
   "outputs": [],
   "source": [
    "df_no_kindle = df[df.name.str.contains(\"Kindle|kindle\")==False]"
   ]
  },
  {
   "cell_type": "code",
   "execution_count": 155,
   "metadata": {},
   "outputs": [
    {
     "data": {
      "text/plain": [
       "Amazon Echo Show Alexa-enabled Bluetooth Speaker with 7\" Screen                                     845\n",
       "All-New Fire HD 8 Tablet, 8\" HD Display, Wi-Fi, 16 GB - Includes Special Offers, Magenta            797\n",
       "Amazon - Echo Plus w/ Built-In Hub - Silver                                                         590\n",
       "Fire Kids Edition Tablet, 7 Display, Wi-Fi, 16 GB, Blue Kid-Proof Case                              561\n",
       "Fire Tablet, 7 Display, Wi-Fi, 16 GB - Includes Special Offers, Black                               371\n",
       "Amazon Tap - Alexa-Enabled Portable Bluetooth Speaker                                               225\n",
       "Fire Kids Edition Tablet, 7 Display, Wi-Fi, 16 GB, Green Kid-Proof Case                             217\n",
       "Fire HD 10 Tablet, 10.1 HD Display, Wi-Fi, 16 GB - Includes Special Offers, Silver Aluminum         106\n",
       "Fire Tablet with Alexa, 7\" Display, 16 GB, Magenta - with Special Offers                            101\n",
       "All-New Fire HD 8 Tablet, 8 HD Display, Wi-Fi, 32 GB - Includes Special Offers, Blue                 70\n",
       "All-New Fire HD 8 Tablet, 8\" HD Display, Wi-Fi, 32 GB - Includes Special Offers, Black               58\n",
       "Fire HD 8 Tablet with Alexa, 8\" HD Display, 32 GB, Tangerine - with Special Offers                   53\n",
       "All-New Fire HD 8 Tablet, 8 HD Display, Wi-Fi, 16 GB - Includes Special Offers, Blue                 51\n",
       "All-New Fire HD 8 Tablet, 8\" HD Display, Wi-Fi, 32 GB - Includes Special Offers, Magenta             40\n",
       "Amazon Fire TV with 4K Ultra HD and Alexa Voice Remote (Pendant Design) | Streaming Media Player      4\n",
       "Name: name, dtype: int64"
      ]
     },
     "execution_count": 155,
     "metadata": {},
     "output_type": "execute_result"
    }
   ],
   "source": [
    "df_no_kindle.name.value_counts()"
   ]
  },
  {
   "cell_type": "code",
   "execution_count": 3,
   "metadata": {
    "scrolled": false
   },
   "outputs": [
    {
     "name": "stdout",
     "output_type": "stream",
     "text": [
      "<class 'pandas.core.frame.DataFrame'>\n",
      "RangeIndex: 5000 entries, 0 to 4999\n",
      "Data columns (total 24 columns):\n",
      "id                     5000 non-null object\n",
      "dateAdded              5000 non-null object\n",
      "dateUpdated            5000 non-null object\n",
      "name                   5000 non-null object\n",
      "asins                  5000 non-null object\n",
      "brand                  5000 non-null object\n",
      "categories             5000 non-null object\n",
      "primaryCategories      5000 non-null object\n",
      "imageURLs              5000 non-null object\n",
      "keys                   5000 non-null object\n",
      "manufacturer           5000 non-null object\n",
      "manufacturerNumber     5000 non-null object\n",
      "reviews.date           5000 non-null object\n",
      "reviews.dateAdded      1052 non-null object\n",
      "reviews.dateSeen       5000 non-null object\n",
      "reviews.doRecommend    5000 non-null bool\n",
      "reviews.id             29 non-null float64\n",
      "reviews.numHelpful     5000 non-null int64\n",
      "reviews.rating         5000 non-null int64\n",
      "reviews.sourceURLs     5000 non-null object\n",
      "reviews.text           5000 non-null object\n",
      "reviews.title          4987 non-null object\n",
      "reviews.username       5000 non-null object\n",
      "sourceURLs             5000 non-null object\n",
      "dtypes: bool(1), float64(1), int64(2), object(20)\n",
      "memory usage: 903.4+ KB\n"
     ]
    }
   ],
   "source": [
    "df.info()"
   ]
  },
  {
   "cell_type": "code",
   "execution_count": 4,
   "metadata": {},
   "outputs": [
    {
     "name": "stdout",
     "output_type": "stream",
     "text": [
      "id : 24\n",
      "dateAdded : 20\n",
      "dateUpdated : 17\n",
      "name : 23\n",
      "asins : 24\n",
      "brand : 1\n",
      "categories : 23\n",
      "primaryCategories : 4\n",
      "imageURLs : 24\n",
      "keys : 24\n",
      "manufacturer : 1\n",
      "manufacturerNumber : 24\n",
      "reviews.date : 679\n",
      "reviews.dateAdded : 381\n",
      "reviews.dateSeen : 417\n",
      "reviews.doRecommend : 2\n",
      "reviews.id : 26\n",
      "reviews.numHelpful : 29\n",
      "reviews.rating : 5\n",
      "reviews.sourceURLs : 2827\n",
      "reviews.text : 4385\n",
      "reviews.title : 3124\n",
      "reviews.username : 3815\n",
      "sourceURLs : 24\n"
     ]
    }
   ],
   "source": [
    "for col in df.columns:\n",
    "    print(f'{col} : {df[col].nunique()}')"
   ]
  },
  {
   "cell_type": "code",
   "execution_count": 5,
   "metadata": {},
   "outputs": [],
   "source": [
    "df.drop(['asins','reviews.id','dateUpdated','dateUpdated', 'primaryCategories', 'manufacturerNumber','reviews.dateAdded','reviews.id','brand','imageURLs','keys','reviews.sourceURLs','sourceURLs'], axis=1, inplace=True)"
   ]
  },
  {
   "cell_type": "code",
   "execution_count": 6,
   "metadata": {},
   "outputs": [
    {
     "data": {
      "text/plain": [
       "True     4765\n",
       "False     235\n",
       "Name: reviews.doRecommend, dtype: int64"
      ]
     },
     "execution_count": 6,
     "metadata": {},
     "output_type": "execute_result"
    }
   ],
   "source": [
    "df['reviews.doRecommend'].value_counts()"
   ]
  },
  {
   "cell_type": "code",
   "execution_count": 7,
   "metadata": {},
   "outputs": [
    {
     "data": {
      "text/plain": [
       "5    3478\n",
       "4    1208\n",
       "3     197\n",
       "1      63\n",
       "2      54\n",
       "Name: reviews.rating, dtype: int64"
      ]
     },
     "execution_count": 7,
     "metadata": {},
     "output_type": "execute_result"
    }
   ],
   "source": [
    "df['reviews.rating'].value_counts()"
   ]
  },
  {
   "cell_type": "markdown",
   "metadata": {},
   "source": [
    "## Data is heavily skewed toward rating >3 and recommendation == True. Need to enrich with data that have lower rating or recommendation == False"
   ]
  },
  {
   "cell_type": "code",
   "execution_count": 8,
   "metadata": {},
   "outputs": [
    {
     "name": "stderr",
     "output_type": "stream",
     "text": [
      "/anaconda3/envs/nlp_venv/lib/python3.6/site-packages/IPython/core/interactiveshell.py:3020: DtypeWarning: Columns (1,10) have mixed types. Specify dtype option on import or set low_memory=False.\n",
      "  interactivity=interactivity, compiler=compiler, result=result)\n"
     ]
    }
   ],
   "source": [
    "df_large = pd.read_csv('1429_1.csv')"
   ]
  },
  {
   "cell_type": "code",
   "execution_count": 159,
   "metadata": {},
   "outputs": [],
   "source": [
    "df_large_no_kindle = df_large[df_large.name.str.contains(\"Kindle|kindle\")==False]"
   ]
  },
  {
   "cell_type": "code",
   "execution_count": 161,
   "metadata": {},
   "outputs": [
    {
     "data": {
      "text/plain": [
       "Fire Tablet, 7 Display, Wi-Fi, 8 GB - Includes Special Offers, Magenta                                                                                                                  10966\n",
       "Echo (White),,,\\r\\nEcho (White),,,                                                                                                                                                       3309\n",
       "All-New Fire HD 8 Tablet, 8 HD Display, Wi-Fi, 16 GB - Includes Special Offers, Magenta                                                                                                  2814\n",
       "Amazon Fire Tv,,,\\r\\nAmazon Fire Tv,,,                                                                                                                                                   2527\n",
       "Fire Kids Edition Tablet, 7 Display, Wi-Fi, 16 GB, Green Kid-Proof Case                                                                                                                  1685\n",
       "Fire Tablet, 7 Display, Wi-Fi, 8 GB - Includes Special Offers, Black                                                                                                                      372\n",
       "Amazon - Amazon Tap Portable Bluetooth and Wi-Fi Speaker - Black,,,\\r\\nAmazon - Amazon Tap Portable Bluetooth and Wi-Fi Speaker - Black,,,                                                318\n",
       "All-New Fire HD 8 Tablet, 8 HD Display, Wi-Fi, 32 GB - Includes Special Offers, Magenta                                                                                                   158\n",
       "Amazon Fire Hd 8 8in Tablet 16gb Black B018szt3bk 6th Gen (2016) Android,,,\\r\\nAmazon Fire Hd 8 8in Tablet 16gb Black B018szt3bk 6th Gen (2016) Android,,,                                135\n",
       "Amazon Fire Hd 10 Tablet, Wi-Fi, 16 Gb, Special Offers - Silver Aluminum,,,\\r\\nAmazon Fire Hd 10 Tablet, Wi-Fi, 16 Gb, Special Offers - Silver Aluminum,,,                                128\n",
       "Fire HD 8 Tablet with Alexa, 8 HD Display, 32 GB, Tangerine - with Special Offers,                                                                                                         14\n",
       "Amazon Echo and Fire TV Power Adapter,,,\\r\\nAmazon Echo and Fire TV Power Adapter,,,                                                                                                        8\n",
       "Fire HD 8 Tablet with Alexa, 8 HD Display, 16 GB, Tangerine - with Special Offers,                                                                                                          6\n",
       "Amazon Fire Kids Edition Tablet, 7 Display, Wi-Fi, 16 GB, Blue Kid-Proof Case - Blue                                                                                                        6\n",
       "Amazon Fire Hd 6 Standing Protective Case(4th Generation - 2014 Release), Cayenne Red,,,\\r\\nAmazon Fire Hd 6 Standing Protective Case(4th Generation - 2014 Release), Cayenne Red,,,        6\n",
       "Amazon - Fire 16GB (5th Gen, 2015 Release) - Black,,,\\r\\nAmazon - Fire 16GB (5th Gen, 2015 Release) - Black,,,                                                                              5\n",
       "Certified Refurbished Amazon Fire TV with Alexa Voice Remote,,,\\r\\nCertified Refurbished Amazon Fire TV with Alexa Voice Remote,,,                                                          4\n",
       "Certified Refurbished Amazon Fire TV (Previous Generation - 1st),,,\\r\\nCertified Refurbished Amazon Fire TV (Previous Generation - 1st),,,                                                  3\n",
       "Echo (Black),,,\\r\\nEcho (Black),,,                                                                                                                                                          3\n",
       "Certified Refurbished Amazon Fire TV Stick (Previous Generation - 1st),,,\\r\\nCertified Refurbished Amazon Fire TV Stick (Previous Generation - 1st),,,                                      1\n",
       "Amazon Standing Protective Case for Fire HD 6 (4th Generation) - Black,,,\\r\\nAmazon Standing Protective Case for Fire HD 6 (4th Generation) - Black,,,                                      1\n",
       "Coconut Water Red Tea 16.5 Oz (pack of 12),,,\\r\\nAmazon Fire Tv,,,                                                                                                                          1\n",
       "Echo (White),,,\\r\\nFire Tablet, 7 Display, Wi-Fi, 8 GB - Includes Special Offers, Tangerine\"                                                                                                1\n",
       "Name: name, dtype: int64"
      ]
     },
     "execution_count": 161,
     "metadata": {},
     "output_type": "execute_result"
    }
   ],
   "source": [
    "df_large_no_kindle.name.value_counts()"
   ]
  },
  {
   "cell_type": "code",
   "execution_count": 9,
   "metadata": {},
   "outputs": [
    {
     "data": {
      "text/plain": [
       "True     32682\n",
       "False     1384\n",
       "Name: reviews.doRecommend, dtype: int64"
      ]
     },
     "execution_count": 9,
     "metadata": {},
     "output_type": "execute_result"
    }
   ],
   "source": [
    "df_large['reviews.doRecommend'].value_counts()"
   ]
  },
  {
   "cell_type": "code",
   "execution_count": 10,
   "metadata": {},
   "outputs": [
    {
     "data": {
      "text/plain": [
       "5.0    23775\n",
       "4.0     8541\n",
       "3.0     1499\n",
       "1.0      410\n",
       "2.0      402\n",
       "Name: reviews.rating, dtype: int64"
      ]
     },
     "execution_count": 10,
     "metadata": {},
     "output_type": "execute_result"
    }
   ],
   "source": [
    "df_large['reviews.rating'].value_counts()"
   ]
  },
  {
   "cell_type": "code",
   "execution_count": 11,
   "metadata": {},
   "outputs": [],
   "source": [
    "# enrich original 5000 review data with large data that have recommendation == False or rating <=3\n",
    "low_rated_data = df_large[(df_large['reviews.rating']<=3) | (df_large['reviews.doRecommend'] == False)]"
   ]
  },
  {
   "cell_type": "code",
   "execution_count": 12,
   "metadata": {},
   "outputs": [],
   "source": [
    "columns = ['id', 'name', 'categories', 'manufacturer', 'reviews.date',\n",
    "       'reviews.dateSeen', 'reviews.doRecommend', 'reviews.numHelpful',\n",
    "       'reviews.rating', 'reviews.text', 'reviews.title', 'reviews.username']\n",
    "df = pd.concat([df[columns], low_rated_data[columns]],axis=0)"
   ]
  },
  {
   "cell_type": "code",
   "execution_count": 13,
   "metadata": {},
   "outputs": [
    {
     "data": {
      "text/plain": [
       "True     5786\n",
       "False    1619\n",
       "Name: reviews.doRecommend, dtype: int64"
      ]
     },
     "execution_count": 13,
     "metadata": {},
     "output_type": "execute_result"
    }
   ],
   "source": [
    "df['reviews.doRecommend'].value_counts()"
   ]
  },
  {
   "cell_type": "code",
   "execution_count": 14,
   "metadata": {},
   "outputs": [],
   "source": [
    "df['reviews.doRecommend'].replace({False: 0, True:1}, inplace=True)\n",
    "df['reviews.doRecommend'].fillna(0, inplace=True)"
   ]
  },
  {
   "cell_type": "code",
   "execution_count": 15,
   "metadata": {},
   "outputs": [
    {
     "data": {
      "text/plain": [
       "5.0    3541\n",
       "3.0    1696\n",
       "4.0    1342\n",
       "1.0     473\n",
       "2.0     456\n",
       "Name: reviews.rating, dtype: int64"
      ]
     },
     "execution_count": 15,
     "metadata": {},
     "output_type": "execute_result"
    }
   ],
   "source": [
    "df['reviews.rating'].value_counts()"
   ]
  },
  {
   "cell_type": "code",
   "execution_count": 16,
   "metadata": {},
   "outputs": [],
   "source": [
    "# convert rating >3 to 1 and rating <=3 to 0\n",
    "df.loc[df['reviews.rating']>3,'label'] = 1\n",
    "df.loc[df['reviews.rating']<=3,'label'] = 0"
   ]
  },
  {
   "cell_type": "code",
   "execution_count": 17,
   "metadata": {},
   "outputs": [
    {
     "data": {
      "text/plain": [
       "1.0    4883\n",
       "0.0    2625\n",
       "Name: label, dtype: int64"
      ]
     },
     "execution_count": 17,
     "metadata": {},
     "output_type": "execute_result"
    }
   ],
   "source": [
    "df.label.value_counts()"
   ]
  },
  {
   "cell_type": "code",
   "execution_count": 18,
   "metadata": {
    "scrolled": true
   },
   "outputs": [
    {
     "data": {
      "text/html": [
       "<div>\n",
       "<style scoped>\n",
       "    .dataframe tbody tr th:only-of-type {\n",
       "        vertical-align: middle;\n",
       "    }\n",
       "\n",
       "    .dataframe tbody tr th {\n",
       "        vertical-align: top;\n",
       "    }\n",
       "\n",
       "    .dataframe thead th {\n",
       "        text-align: right;\n",
       "    }\n",
       "</style>\n",
       "<table border=\"1\" class=\"dataframe\">\n",
       "  <thead>\n",
       "    <tr style=\"text-align: right;\">\n",
       "      <th></th>\n",
       "      <th>id</th>\n",
       "      <th>name</th>\n",
       "      <th>categories</th>\n",
       "      <th>manufacturer</th>\n",
       "      <th>reviews.date</th>\n",
       "      <th>reviews.dateSeen</th>\n",
       "      <th>reviews.doRecommend</th>\n",
       "      <th>reviews.numHelpful</th>\n",
       "      <th>reviews.rating</th>\n",
       "      <th>reviews.text</th>\n",
       "      <th>reviews.title</th>\n",
       "      <th>reviews.username</th>\n",
       "      <th>label</th>\n",
       "    </tr>\n",
       "  </thead>\n",
       "  <tbody>\n",
       "    <tr>\n",
       "      <th>0</th>\n",
       "      <td>AVqVGZNvQMlgsOJE6eUY</td>\n",
       "      <td>Amazon Kindle E-Reader 6\" Wifi (8th Generation...</td>\n",
       "      <td>Computers,Electronics Features,Tablets,Electro...</td>\n",
       "      <td>Amazon</td>\n",
       "      <td>2017-09-03T00:00:00.000Z</td>\n",
       "      <td>2018-05-27T00:00:00Z,2017-09-18T00:00:00Z,2017...</td>\n",
       "      <td>0.0</td>\n",
       "      <td>0.0</td>\n",
       "      <td>3.0</td>\n",
       "      <td>I thought it would be as big as small paper bu...</td>\n",
       "      <td>Too small</td>\n",
       "      <td>llyyue</td>\n",
       "      <td>0.0</td>\n",
       "    </tr>\n",
       "    <tr>\n",
       "      <th>1</th>\n",
       "      <td>AVqVGZNvQMlgsOJE6eUY</td>\n",
       "      <td>Amazon Kindle E-Reader 6\" Wifi (8th Generation...</td>\n",
       "      <td>Computers,Electronics Features,Tablets,Electro...</td>\n",
       "      <td>Amazon</td>\n",
       "      <td>2017-06-06T00:00:00.000Z</td>\n",
       "      <td>2018-05-27T00:00:00Z,2017-07-07T00:00:00Z,2017...</td>\n",
       "      <td>1.0</td>\n",
       "      <td>0.0</td>\n",
       "      <td>5.0</td>\n",
       "      <td>This kindle is light and easy to use especiall...</td>\n",
       "      <td>Great light reader. Easy to use at the beach</td>\n",
       "      <td>Charmi</td>\n",
       "      <td>1.0</td>\n",
       "    </tr>\n",
       "    <tr>\n",
       "      <th>2</th>\n",
       "      <td>AVqVGZNvQMlgsOJE6eUY</td>\n",
       "      <td>Amazon Kindle E-Reader 6\" Wifi (8th Generation...</td>\n",
       "      <td>Computers,Electronics Features,Tablets,Electro...</td>\n",
       "      <td>Amazon</td>\n",
       "      <td>2018-04-20T00:00:00.000Z</td>\n",
       "      <td>2018-05-27T00:00:00Z</td>\n",
       "      <td>1.0</td>\n",
       "      <td>0.0</td>\n",
       "      <td>4.0</td>\n",
       "      <td>Didnt know how much i'd use a kindle so went f...</td>\n",
       "      <td>Great for the price</td>\n",
       "      <td>johnnyjojojo</td>\n",
       "      <td>1.0</td>\n",
       "    </tr>\n",
       "    <tr>\n",
       "      <th>3</th>\n",
       "      <td>AVqVGZNvQMlgsOJE6eUY</td>\n",
       "      <td>Amazon Kindle E-Reader 6\" Wifi (8th Generation...</td>\n",
       "      <td>Computers,Electronics Features,Tablets,Electro...</td>\n",
       "      <td>Amazon</td>\n",
       "      <td>2017-11-02T17:33:31.000Z</td>\n",
       "      <td>2018-10-09T00:00:00Z</td>\n",
       "      <td>1.0</td>\n",
       "      <td>3.0</td>\n",
       "      <td>5.0</td>\n",
       "      <td>I am 100 happy with my purchase. I caught it o...</td>\n",
       "      <td>A Great Buy</td>\n",
       "      <td>Kdperry</td>\n",
       "      <td>1.0</td>\n",
       "    </tr>\n",
       "    <tr>\n",
       "      <th>4</th>\n",
       "      <td>AVqVGZNvQMlgsOJE6eUY</td>\n",
       "      <td>Amazon Kindle E-Reader 6\" Wifi (8th Generation...</td>\n",
       "      <td>Computers,Electronics Features,Tablets,Electro...</td>\n",
       "      <td>Amazon</td>\n",
       "      <td>2018-04-24T00:00:00.000Z</td>\n",
       "      <td>2018-05-27T00:00:00Z</td>\n",
       "      <td>1.0</td>\n",
       "      <td>0.0</td>\n",
       "      <td>5.0</td>\n",
       "      <td>Solid entry level Kindle. Great for kids. Gift...</td>\n",
       "      <td>Solid entry-level Kindle. Great for kids</td>\n",
       "      <td>Johnnyblack</td>\n",
       "      <td>1.0</td>\n",
       "    </tr>\n",
       "  </tbody>\n",
       "</table>\n",
       "</div>"
      ],
      "text/plain": [
       "                     id                                               name  \\\n",
       "0  AVqVGZNvQMlgsOJE6eUY  Amazon Kindle E-Reader 6\" Wifi (8th Generation...   \n",
       "1  AVqVGZNvQMlgsOJE6eUY  Amazon Kindle E-Reader 6\" Wifi (8th Generation...   \n",
       "2  AVqVGZNvQMlgsOJE6eUY  Amazon Kindle E-Reader 6\" Wifi (8th Generation...   \n",
       "3  AVqVGZNvQMlgsOJE6eUY  Amazon Kindle E-Reader 6\" Wifi (8th Generation...   \n",
       "4  AVqVGZNvQMlgsOJE6eUY  Amazon Kindle E-Reader 6\" Wifi (8th Generation...   \n",
       "\n",
       "                                          categories manufacturer  \\\n",
       "0  Computers,Electronics Features,Tablets,Electro...       Amazon   \n",
       "1  Computers,Electronics Features,Tablets,Electro...       Amazon   \n",
       "2  Computers,Electronics Features,Tablets,Electro...       Amazon   \n",
       "3  Computers,Electronics Features,Tablets,Electro...       Amazon   \n",
       "4  Computers,Electronics Features,Tablets,Electro...       Amazon   \n",
       "\n",
       "               reviews.date  \\\n",
       "0  2017-09-03T00:00:00.000Z   \n",
       "1  2017-06-06T00:00:00.000Z   \n",
       "2  2018-04-20T00:00:00.000Z   \n",
       "3  2017-11-02T17:33:31.000Z   \n",
       "4  2018-04-24T00:00:00.000Z   \n",
       "\n",
       "                                    reviews.dateSeen  reviews.doRecommend  \\\n",
       "0  2018-05-27T00:00:00Z,2017-09-18T00:00:00Z,2017...                  0.0   \n",
       "1  2018-05-27T00:00:00Z,2017-07-07T00:00:00Z,2017...                  1.0   \n",
       "2                               2018-05-27T00:00:00Z                  1.0   \n",
       "3                               2018-10-09T00:00:00Z                  1.0   \n",
       "4                               2018-05-27T00:00:00Z                  1.0   \n",
       "\n",
       "   reviews.numHelpful  reviews.rating  \\\n",
       "0                 0.0             3.0   \n",
       "1                 0.0             5.0   \n",
       "2                 0.0             4.0   \n",
       "3                 3.0             5.0   \n",
       "4                 0.0             5.0   \n",
       "\n",
       "                                        reviews.text  \\\n",
       "0  I thought it would be as big as small paper bu...   \n",
       "1  This kindle is light and easy to use especiall...   \n",
       "2  Didnt know how much i'd use a kindle so went f...   \n",
       "3  I am 100 happy with my purchase. I caught it o...   \n",
       "4  Solid entry level Kindle. Great for kids. Gift...   \n",
       "\n",
       "                                  reviews.title reviews.username  label  \n",
       "0                                     Too small           llyyue    0.0  \n",
       "1  Great light reader. Easy to use at the beach           Charmi    1.0  \n",
       "2                           Great for the price     johnnyjojojo    1.0  \n",
       "3                                   A Great Buy          Kdperry    1.0  \n",
       "4      Solid entry-level Kindle. Great for kids      Johnnyblack    1.0  "
      ]
     },
     "execution_count": 18,
     "metadata": {},
     "output_type": "execute_result"
    }
   ],
   "source": [
    "df.head()"
   ]
  },
  {
   "cell_type": "markdown",
   "metadata": {},
   "source": [
    "# Check whether review is biased to spam reviewers"
   ]
  },
  {
   "cell_type": "code",
   "execution_count": 19,
   "metadata": {},
   "outputs": [
    {
     "name": "stdout",
     "output_type": "stream",
     "text": [
      "% of reviewers with >=10 reviews: 0.348008%\n",
      "% of reviews posted by bulk reviewers: 3.915823%\n"
     ]
    }
   ],
   "source": [
    "user_reviews = df['reviews.username'].value_counts()\n",
    "bulk_reviewers = user_reviews[user_reviews>=10]\n",
    "print('% of reviewers with >=10 reviews: {:02f}%'.format(len(bulk_reviewers)*100/len(user_reviews)))\n",
    "print('% of reviews posted by bulk reviewers: {:02f}%'.format(sum(bulk_reviewers)*100/sum(user_reviews)))"
   ]
  },
  {
   "cell_type": "code",
   "execution_count": 20,
   "metadata": {
    "scrolled": false
   },
   "outputs": [
    {
     "name": "stdout",
     "output_type": "stream",
     "text": [
      "[<matplotlib.axes._subplots.AxesSubplot object at 0x1a25d312b0>\n",
      " <matplotlib.axes._subplots.AxesSubplot object at 0x1a25e224a8>]\n",
      "count    294.000000\n",
      "mean       4.142857\n",
      "std        1.108453\n",
      "min        1.000000\n",
      "25%        3.000000\n",
      "50%        5.000000\n",
      "75%        5.000000\n",
      "max        5.000000\n",
      "Name: reviews.rating, dtype: float64\n",
      "count    7214.000000\n",
      "mean        3.926809\n",
      "std         1.230046\n",
      "min         1.000000\n",
      "25%         3.000000\n",
      "50%         4.000000\n",
      "75%         5.000000\n",
      "max         5.000000\n",
      "Name: reviews.rating, dtype: float64\n"
     ]
    }
   ],
   "source": [
    "df['bulk']= df['reviews.username'].apply(lambda x : 1 if x in bulk_reviewers.index else 0)\n",
    "#gives us the category whether a rating is bulk or not\n",
    "from matplotlib import pyplot\n",
    "print(df['reviews.rating'].hist(by=df.bulk))\n",
    "print(df[df.bulk==1]['reviews.rating'].describe())\n",
    "print(df[df.bulk==0]['reviews.rating'].describe())"
   ]
  },
  {
   "cell_type": "markdown",
   "metadata": {},
   "source": [
    "## Not too much rating differences between bulk and single reviewers. Likely those bulk reviewers were just frequent shopper and vocal reviewers than spammers."
   ]
  },
  {
   "cell_type": "markdown",
   "metadata": {},
   "source": [
    "# Start text distillation"
   ]
  },
  {
   "cell_type": "code",
   "execution_count": 21,
   "metadata": {},
   "outputs": [],
   "source": [
    "# concatenate review text with review title due to:\n",
    "# 1. we're not intended to calculate similarities between text and title\n",
    "# 2. many titles are very short or nan\n",
    "df['comment'] = df['reviews.text'].astype(str) + ' ' + df['reviews.title'].astype(str)"
   ]
  },
  {
   "cell_type": "markdown",
   "metadata": {},
   "source": [
    "### Get raw sentiment score magnifier from counting exlamation marks and full cap words"
   ]
  },
  {
   "cell_type": "code",
   "execution_count": 22,
   "metadata": {},
   "outputs": [],
   "source": [
    "def get_cap_and_exclamation_score(line):\n",
    "    # 1+ len is to make sure the value is at least 1, for later use to multiply with other factors.\n",
    "    return 1+len(re.findall(r'!{2,}', line)) + len(re.findall(r'[A-Z]{2,}', line))\n",
    "\n",
    "df['strong_sentiment'] = df['comment'].apply(get_cap_and_exclamation_score)"
   ]
  },
  {
   "cell_type": "code",
   "execution_count": 23,
   "metadata": {
    "scrolled": true
   },
   "outputs": [
    {
     "data": {
      "text/plain": [
       "1     6296\n",
       "2      745\n",
       "3      242\n",
       "4       94\n",
       "5       36\n",
       "6       26\n",
       "7       17\n",
       "9        7\n",
       "10       6\n",
       "8        5\n",
       "13       5\n",
       "14       4\n",
       "15       3\n",
       "18       2\n",
       "11       2\n",
       "28       2\n",
       "35       2\n",
       "17       2\n",
       "12       1\n",
       "32       1\n",
       "44       1\n",
       "16       1\n",
       "83       1\n",
       "21       1\n",
       "25       1\n",
       "45       1\n",
       "57       1\n",
       "38       1\n",
       "23       1\n",
       "29       1\n",
       "Name: strong_sentiment, dtype: int64"
      ]
     },
     "execution_count": 23,
     "metadata": {},
     "output_type": "execute_result"
    }
   ],
   "source": [
    "df['strong_sentiment'].value_counts()"
   ]
  },
  {
   "cell_type": "markdown",
   "metadata": {},
   "source": [
    "### Get strong negative sentiment scores from a list of english bad words"
   ]
  },
  {
   "cell_type": "code",
   "execution_count": 69,
   "metadata": {},
   "outputs": [],
   "source": [
    "bad_words = {key:1 for key in list(pd.read_csv('full-list-of-bad-words_csv-file_2018_07_30.csv',sep=';', header=None)[0])}"
   ]
  },
  {
   "cell_type": "code",
   "execution_count": 75,
   "metadata": {},
   "outputs": [],
   "source": [
    "cachedStopWords = set(stopwords.words('english') + list(punctuation))\n",
    "\n",
    "def get_bad_word(text):\n",
    "    words = map(lambda word: word.lower(), word_tokenize(text))\n",
    "    words = [word for word in words if word not in cachedStopWords]\n",
    "    return len([word for word in words if word in bad_words])/len(words)*1000\n",
    "\n",
    "df['strong_bad_senti'] = df['comment'].astype('U').apply(get_bad_word)"
   ]
  },
  {
   "cell_type": "code",
   "execution_count": 24,
   "metadata": {
    "colab": {},
    "colab_type": "code",
    "id": "sq5Yu8r9CuLP"
   },
   "outputs": [],
   "source": [
    "def tokenize(text):\n",
    "    min_length = 3\n",
    "    # tokenize\n",
    "    # convert to lower case\n",
    "    words = map(lambda word: word.lower(), word_tokenize(text))\n",
    "    # remove stop words and punctuation\n",
    "    words = [word for word in words if word not in cachedStopWords]\n",
    "    # steming\n",
    "    tokens = list(map(lambda token: PorterStemmer().stem(token), words))\n",
    "    # lemmatize\n",
    "    lemmas = [WordNetLemmatizer().lemmatize(word) for word in tokens]\n",
    "    # only focus on alphabetic words\n",
    "    p = re.compile('[a-zA-Z]+')\n",
    "    \n",
    "    filtered_lemmas = list(filter(lambda lemma: p.match(lemma) and len(lemma) >= min_length, lemmas))\n",
    "    return filtered_lemmas"
   ]
  },
  {
   "cell_type": "code",
   "execution_count": 25,
   "metadata": {
    "colab": {},
    "colab_type": "code",
    "id": "iqgboZrA5-Da"
   },
   "outputs": [],
   "source": [
    "df['comment_clean']=df['comment'].astype('U').apply(tokenize)"
   ]
  },
  {
   "cell_type": "markdown",
   "metadata": {},
   "source": [
    "# LDA for topic selection"
   ]
  },
  {
   "cell_type": "code",
   "execution_count": 26,
   "metadata": {},
   "outputs": [],
   "source": [
    "dictionary = Dictionary(df['comment_clean'])"
   ]
  },
  {
   "cell_type": "code",
   "execution_count": 27,
   "metadata": {
    "scrolled": true
   },
   "outputs": [],
   "source": [
    "def get_topics(tokenized_words):\n",
    "    new_doc_bow = [dictionary.doc2bow(tokenized_words)]\n",
    "    model_ = LdaModel(new_doc_bow, num_topics=1, id2word=dictionary, passes=10)\n",
    "    return [topic.replace('\"','') for topic in re.findall(r'\"\\w+\"', list(*model_.print_topics(num_words=10))[1])]"
   ]
  },
  {
   "cell_type": "code",
   "execution_count": 28,
   "metadata": {},
   "outputs": [],
   "source": [
    "df['topics']=df['comment_clean'].apply(get_topics)"
   ]
  },
  {
   "cell_type": "code",
   "execution_count": 29,
   "metadata": {
    "scrolled": true
   },
   "outputs": [
    {
     "data": {
      "text/plain": [
       "10    5773\n",
       "9     1549\n",
       "8      162\n",
       "7       18\n",
       "6        5\n",
       "5        1\n",
       "Name: topics, dtype: int64"
      ]
     },
     "execution_count": 29,
     "metadata": {},
     "output_type": "execute_result"
    }
   ],
   "source": [
    "df['topics'].apply(len).value_counts()"
   ]
  },
  {
   "cell_type": "markdown",
   "metadata": {},
   "source": [
    "# Sentiment analysis"
   ]
  },
  {
   "cell_type": "code",
   "execution_count": 30,
   "metadata": {},
   "outputs": [],
   "source": [
    "sid = SentimentIntensityAnalyzer()\n",
    "def sentiment_analyzer(topics):\n",
    "    score = sid.polarity_scores(\" \".join(topics))\n",
    "    return pd.Series(score)\n",
    "\n",
    "df[['cmt_neg','cmt_neu','cmt_pos','cmt_cmpd' ] ]= df['topics'].apply(sentiment_analyzer)"
   ]
  },
  {
   "cell_type": "markdown",
   "metadata": {},
   "source": [
    "### Multiply sentiment scores by 'strong_sentiment' scores. This is like to boost pos or neg sentiment with ranking"
   ]
  },
  {
   "cell_type": "code",
   "execution_count": 31,
   "metadata": {
    "scrolled": true
   },
   "outputs": [],
   "source": [
    "df['senti_score'] = df['strong_sentiment']* df['cmt_cmpd']"
   ]
  },
  {
   "cell_type": "markdown",
   "metadata": {},
   "source": [
    "# TF-IDF Ranking"
   ]
  },
  {
   "cell_type": "code",
   "execution_count": 32,
   "metadata": {},
   "outputs": [],
   "source": [
    "tfidf = TfidfVectorizer(max_features=30000,ngram_range=(1, 3))\n",
    "X_tfidf = tfidf.fit_transform(df['comment_clean'].apply(lambda x: \" \".join(x)))\n",
    "y = df.label\n",
    "chi2score = chi2(X_tfidf, y)[0]"
   ]
  },
  {
   "cell_type": "code",
   "execution_count": 33,
   "metadata": {
    "scrolled": false
   },
   "outputs": [
    {
     "data": {
      "image/png": "[encoded data removed]",
      "text/plain": [
       "<Figure size 864x576 with 1 Axes>"
      ]
     },
     "metadata": {
      "needs_background": "light"
     },
     "output_type": "display_data"
    }
   ],
   "source": [
    "import matplotlib.pyplot as plt\n",
    "%matplotlib inline\n",
    "\n",
    "plt.figure(figsize=(12,8))\n",
    "scores = list(zip(tfidf.get_feature_names(), chi2score))\n",
    "chi2 = sorted(scores, key=lambda x:x[1])\n",
    "topchi2 = list(zip(*chi2[-20:]))\n",
    "x = range(len(topchi2[1]))\n",
    "labels = topchi2[0]\n",
    "plt.barh(x,topchi2[1], align='center', alpha=0.5)\n",
    "plt.plot(topchi2[1], x, '-o', markersize=5, alpha=0.8)\n",
    "plt.yticks(x, labels)\n",
    "plt.xlabel('$\\chi^2$')\n",
    "plt.show();"
   ]
  },
  {
   "cell_type": "code",
   "execution_count": 34,
   "metadata": {},
   "outputs": [],
   "source": [
    "chi_rank = {k:v for k, v in zip(topchi2[0],topchi2[1])}"
   ]
  },
  {
   "cell_type": "code",
   "execution_count": 36,
   "metadata": {},
   "outputs": [],
   "source": [
    "def get_chi_rank_per_text(text):\n",
    "    total_score = 0\n",
    "    for word in text:\n",
    "        if word in chi_rank:\n",
    "            total_score += chi_rank[word]\n",
    "    return total_score\n",
    "\n",
    "df['cmt_rank'] = df['comment_clean'].apply(get_chi_rank_per_text)\n",
    "df['topic_rank'] = df['topics'].apply(get_chi_rank_per_text)"
   ]
  },
  {
   "cell_type": "markdown",
   "metadata": {},
   "source": [
    "# Add word2vec as a factor"
   ]
  },
  {
   "cell_type": "code",
   "execution_count": 37,
   "metadata": {
    "colab": {},
    "colab_type": "code",
    "id": "6aF6Xs555-EB"
   },
   "outputs": [],
   "source": [
    "# let X be a list of tokenized texts (i.e. list of lists of tokens)\n",
    "model = Word2Vec(df.comment_clean, size=50)\n",
    "w2v_trained = dict(zip(model.wv.index2word, model.wv.vectors))"
   ]
  },
  {
   "cell_type": "code",
   "execution_count": 38,
   "metadata": {
    "colab": {},
    "colab_type": "code",
    "id": "pQ6i2diN5-Df"
   },
   "outputs": [],
   "source": [
    "class EmbeddingVectorizer(object):\n",
    "    def __init__(self, word2vec):\n",
    "        self.word2vec = word2vec\n",
    "\n",
    "    def transform(self, X):\n",
    "        return X.apply(self.line_to_vec)\n",
    "    \n",
    "    def line_to_vec(self, line):\n",
    "        row = []\n",
    "        for w in line:\n",
    "            if w not in self.word2vec:\n",
    "                row+=[0]\n",
    "            else:\n",
    "                row+=[np.mean(self.word2vec[w])]\n",
    "        return row    "
   ]
  },
  {
   "cell_type": "code",
   "execution_count": 39,
   "metadata": {
    "colab": {},
    "colab_type": "code",
    "id": "cD-rkF8J5-EC",
    "scrolled": true
   },
   "outputs": [],
   "source": [
    "embedding = EmbeddingVectorizer(w2v_trained)\n",
    "df['cmt_w2v'] = embedding.transform(df['comment_clean'])\n",
    "df['topic_w2v'] = embedding.transform(df['topics'])"
   ]
  },
  {
   "cell_type": "code",
   "execution_count": 40,
   "metadata": {},
   "outputs": [],
   "source": [
    "df['cmt_w2v_mean'] = df['cmt_w2v'].apply(np.mean)\n",
    "df['topic_w2v_mean'] = df['topic_w2v'].apply(np.mean)"
   ]
  },
  {
   "cell_type": "markdown",
   "metadata": {
    "colab_type": "text",
    "id": "ZydCZUOP5-Ef"
   },
   "source": [
    "# Add doc2vec as a factor"
   ]
  },
  {
   "cell_type": "code",
   "execution_count": 41,
   "metadata": {
    "colab": {},
    "colab_type": "code",
    "id": "G4f9jdqo5-Ei"
   },
   "outputs": [],
   "source": [
    "from tqdm import tqdm\n",
    "tqdm.pandas(desc=\"progress-bar\")\n",
    "from sklearn import utils\n",
    "from gensim.models.doc2vec import TaggedDocument"
   ]
  },
  {
   "cell_type": "code",
   "execution_count": 42,
   "metadata": {
    "colab": {},
    "colab_type": "code",
    "id": "exzUipyt5-Ek"
   },
   "outputs": [],
   "source": [
    "def label_sentences(corpus, label_type):\n",
    "    \"\"\"\n",
    "    Gensim's Doc2Vec implementation requires each document/paragraph to have a label associated with it.\n",
    "    We do this by using the TaggedDocument method. The format will be \"TRAIN_i\" or \"TEST_i\" where \"i\" is\n",
    "    a dummy index of the post.\n",
    "    \"\"\"\n",
    "    labeled = []\n",
    "    for i, v in enumerate(corpus):\n",
    "        label = label_type + '_' + str(i)\n",
    "        labeled.append(TaggedDocument(v, [label]))\n",
    "    return labeled"
   ]
  },
  {
   "cell_type": "code",
   "execution_count": 43,
   "metadata": {
    "colab": {},
    "colab_type": "code",
    "id": "UGfpIGZb5-En"
   },
   "outputs": [],
   "source": [
    "doc2vec_cmt = label_sentences(df.comment_clean, 'Comment')\n",
    "doc2vec_topic = label_sentences(df.topics, 'Topic')\n",
    "doc2vec_all_data = doc2vec_cmt + doc2vec_topic"
   ]
  },
  {
   "cell_type": "code",
   "execution_count": 44,
   "metadata": {
    "colab": {},
    "colab_type": "code",
    "id": "Dbpk2NuS5-Es",
    "outputId": "317f7d6b-e5d1-41bf-a6af-5203bd4fe6e2"
   },
   "outputs": [
    {
     "name": "stderr",
     "output_type": "stream",
     "text": [
      "100%|██████████| 15016/15016 [00:00<00:00, 2349185.71it/s]\n"
     ]
    }
   ],
   "source": [
    "model_dbow = Doc2Vec(dm=0, vector_size=50, negative=5, min_count=1, alpha=0.065, min_alpha=0.065)\n",
    "model_dbow.build_vocab([x for x in tqdm(doc2vec_all_data)])"
   ]
  },
  {
   "cell_type": "code",
   "execution_count": 45,
   "metadata": {
    "colab": {},
    "colab_type": "code",
    "id": "0rylmTJL5-Ev",
    "outputId": "f3b5bde8-c35a-4811-dd6f-51c0deaf5f88"
   },
   "outputs": [
    {
     "name": "stderr",
     "output_type": "stream",
     "text": [
      "100%|██████████| 15016/15016 [00:00<00:00, 2460413.66it/s]\n",
      "100%|██████████| 15016/15016 [00:00<00:00, 2748610.84it/s]\n",
      "100%|██████████| 15016/15016 [00:00<00:00, 2990582.57it/s]\n",
      "100%|██████████| 15016/15016 [00:00<00:00, 2805669.50it/s]\n",
      "100%|██████████| 15016/15016 [00:00<00:00, 2872203.07it/s]\n",
      "100%|██████████| 15016/15016 [00:00<00:00, 2622378.68it/s]\n",
      "100%|██████████| 15016/15016 [00:00<00:00, 2680983.69it/s]\n",
      "100%|██████████| 15016/15016 [00:00<00:00, 2801052.65it/s]\n",
      "100%|██████████| 15016/15016 [00:00<00:00, 2685899.99it/s]\n",
      "100%|██████████| 15016/15016 [00:00<00:00, 2529282.71it/s]\n",
      "100%|██████████| 15016/15016 [00:00<00:00, 2794093.82it/s]\n",
      "100%|██████████| 15016/15016 [00:00<00:00, 2586834.88it/s]\n",
      "100%|██████████| 15016/15016 [00:00<00:00, 2434544.60it/s]\n",
      "100%|██████████| 15016/15016 [00:00<00:00, 2439164.59it/s]\n",
      "100%|██████████| 15016/15016 [00:00<00:00, 2907875.20it/s]\n",
      "100%|██████████| 15016/15016 [00:00<00:00, 2872203.07it/s]\n",
      "100%|██████████| 15016/15016 [00:00<00:00, 2621505.47it/s]\n",
      "100%|██████████| 15016/15016 [00:00<00:00, 2462530.06it/s]\n",
      "100%|██████████| 15016/15016 [00:00<00:00, 2495608.39it/s]\n",
      "100%|██████████| 15016/15016 [00:00<00:00, 2858385.63it/s]\n",
      "100%|██████████| 15016/15016 [00:00<00:00, 2767451.84it/s]\n",
      "100%|██████████| 15016/15016 [00:00<00:00, 2660485.32it/s]\n",
      "100%|██████████| 15016/15016 [00:00<00:00, 2581956.66it/s]\n",
      "100%|██████████| 15016/15016 [00:00<00:00, 2840210.55it/s]\n",
      "100%|██████████| 15016/15016 [00:00<00:00, 2655885.50it/s]\n",
      "100%|██████████| 15016/15016 [00:00<00:00, 2477057.69it/s]\n",
      "100%|██████████| 15016/15016 [00:00<00:00, 2779297.86it/s]\n",
      "100%|██████████| 15016/15016 [00:00<00:00, 2750291.22it/s]\n",
      "100%|██████████| 15016/15016 [00:00<00:00, 2770129.70it/s]\n",
      "100%|██████████| 15016/15016 [00:00<00:00, 2499272.57it/s]\n"
     ]
    }
   ],
   "source": [
    "for epoch in range(30):\n",
    "    model_dbow.train(utils.shuffle([x for x in tqdm(doc2vec_all_data)]), total_examples=len(doc2vec_all_data), epochs=1)\n",
    "    model_dbow.alpha -= 0.002\n",
    "    model_dbow.min_alpha = model_dbow.alpha"
   ]
  },
  {
   "cell_type": "code",
   "execution_count": 46,
   "metadata": {
    "colab": {},
    "colab_type": "code",
    "id": "OqEdHvgA5-Ex"
   },
   "outputs": [],
   "source": [
    "def get_vectors(model, corpus_size, vectors_size, vectors_type):\n",
    "    \"\"\"\n",
    "    Get vectors from trained doc2vec model\n",
    "    :param doc2vec_model: Trained Doc2Vec model\n",
    "    :param corpus_size: Size of the data\n",
    "    :param vectors_size: Size of the embedding vectors\n",
    "    :param vectors_type: Training or Testing vectors\n",
    "    :return: list of vectors\n",
    "    \"\"\"\n",
    "    vectors = np.zeros((corpus_size, vectors_size))\n",
    "    for i in range(0, corpus_size):\n",
    "        prefix = vectors_type + '_' + str(i)\n",
    "        vectors[i] = model.docvecs[prefix]\n",
    "    return vectors"
   ]
  },
  {
   "cell_type": "code",
   "execution_count": 47,
   "metadata": {},
   "outputs": [],
   "source": [
    "df_topic_d2v = pd.DataFrame(get_vectors(model_dbow, len(df.topics), 50, 'Topic')).add_prefix('d2v_tpc')\n",
    "df_cmt_d2v = pd.DataFrame(get_vectors(model_dbow, len(df.comment_clean), 50, 'Comment')).add_prefix('d2v_cmt')"
   ]
  },
  {
   "cell_type": "code",
   "execution_count": 80,
   "metadata": {},
   "outputs": [],
   "source": [
    "df = df.reset_index(drop=True)\n",
    "df_full = pd.concat([df, df_topic_d2v, df_cmt_d2v], axis=1)"
   ]
  },
  {
   "cell_type": "code",
   "execution_count": 82,
   "metadata": {},
   "outputs": [
    {
     "data": {
      "text/plain": [
       "(7508, 130)"
      ]
     },
     "execution_count": 82,
     "metadata": {},
     "output_type": "execute_result"
    }
   ],
   "source": [
    "df_full.shape"
   ]
  },
  {
   "cell_type": "code",
   "execution_count": 83,
   "metadata": {
    "scrolled": true
   },
   "outputs": [
    {
     "data": {
      "text/html": [
       "<div>\n",
       "<style scoped>\n",
       "    .dataframe tbody tr th:only-of-type {\n",
       "        vertical-align: middle;\n",
       "    }\n",
       "\n",
       "    .dataframe tbody tr th {\n",
       "        vertical-align: top;\n",
       "    }\n",
       "\n",
       "    .dataframe thead th {\n",
       "        text-align: right;\n",
       "    }\n",
       "</style>\n",
       "<table border=\"1\" class=\"dataframe\">\n",
       "  <thead>\n",
       "    <tr style=\"text-align: right;\">\n",
       "      <th></th>\n",
       "      <th>id</th>\n",
       "      <th>name</th>\n",
       "      <th>categories</th>\n",
       "      <th>manufacturer</th>\n",
       "      <th>reviews.date</th>\n",
       "      <th>reviews.dateSeen</th>\n",
       "      <th>reviews.doRecommend</th>\n",
       "      <th>reviews.numHelpful</th>\n",
       "      <th>reviews.rating</th>\n",
       "      <th>reviews.text</th>\n",
       "      <th>...</th>\n",
       "      <th>d2v_cmt40</th>\n",
       "      <th>d2v_cmt41</th>\n",
       "      <th>d2v_cmt42</th>\n",
       "      <th>d2v_cmt43</th>\n",
       "      <th>d2v_cmt44</th>\n",
       "      <th>d2v_cmt45</th>\n",
       "      <th>d2v_cmt46</th>\n",
       "      <th>d2v_cmt47</th>\n",
       "      <th>d2v_cmt48</th>\n",
       "      <th>d2v_cmt49</th>\n",
       "    </tr>\n",
       "  </thead>\n",
       "  <tbody>\n",
       "    <tr>\n",
       "      <th>0</th>\n",
       "      <td>AVqVGZNvQMlgsOJE6eUY</td>\n",
       "      <td>Amazon Kindle E-Reader 6\" Wifi (8th Generation...</td>\n",
       "      <td>Computers,Electronics Features,Tablets,Electro...</td>\n",
       "      <td>Amazon</td>\n",
       "      <td>2017-09-03T00:00:00.000Z</td>\n",
       "      <td>2018-05-27T00:00:00Z,2017-09-18T00:00:00Z,2017...</td>\n",
       "      <td>0.0</td>\n",
       "      <td>0.0</td>\n",
       "      <td>3.0</td>\n",
       "      <td>I thought it would be as big as small paper bu...</td>\n",
       "      <td>...</td>\n",
       "      <td>0.406725</td>\n",
       "      <td>0.490591</td>\n",
       "      <td>0.592947</td>\n",
       "      <td>0.086458</td>\n",
       "      <td>-0.216621</td>\n",
       "      <td>-0.880753</td>\n",
       "      <td>0.324097</td>\n",
       "      <td>0.840732</td>\n",
       "      <td>0.369070</td>\n",
       "      <td>0.105539</td>\n",
       "    </tr>\n",
       "    <tr>\n",
       "      <th>1</th>\n",
       "      <td>AVqVGZNvQMlgsOJE6eUY</td>\n",
       "      <td>Amazon Kindle E-Reader 6\" Wifi (8th Generation...</td>\n",
       "      <td>Computers,Electronics Features,Tablets,Electro...</td>\n",
       "      <td>Amazon</td>\n",
       "      <td>2017-06-06T00:00:00.000Z</td>\n",
       "      <td>2018-05-27T00:00:00Z,2017-07-07T00:00:00Z,2017...</td>\n",
       "      <td>1.0</td>\n",
       "      <td>0.0</td>\n",
       "      <td>5.0</td>\n",
       "      <td>This kindle is light and easy to use especiall...</td>\n",
       "      <td>...</td>\n",
       "      <td>-0.207001</td>\n",
       "      <td>0.182017</td>\n",
       "      <td>0.119846</td>\n",
       "      <td>-0.233603</td>\n",
       "      <td>0.084920</td>\n",
       "      <td>0.089752</td>\n",
       "      <td>-0.378652</td>\n",
       "      <td>0.207999</td>\n",
       "      <td>-0.269092</td>\n",
       "      <td>0.137328</td>\n",
       "    </tr>\n",
       "    <tr>\n",
       "      <th>2</th>\n",
       "      <td>AVqVGZNvQMlgsOJE6eUY</td>\n",
       "      <td>Amazon Kindle E-Reader 6\" Wifi (8th Generation...</td>\n",
       "      <td>Computers,Electronics Features,Tablets,Electro...</td>\n",
       "      <td>Amazon</td>\n",
       "      <td>2018-04-20T00:00:00.000Z</td>\n",
       "      <td>2018-05-27T00:00:00Z</td>\n",
       "      <td>1.0</td>\n",
       "      <td>0.0</td>\n",
       "      <td>4.0</td>\n",
       "      <td>Didnt know how much i'd use a kindle so went f...</td>\n",
       "      <td>...</td>\n",
       "      <td>0.180312</td>\n",
       "      <td>0.443598</td>\n",
       "      <td>0.286322</td>\n",
       "      <td>-0.731421</td>\n",
       "      <td>-0.306343</td>\n",
       "      <td>0.091049</td>\n",
       "      <td>-0.637082</td>\n",
       "      <td>0.005416</td>\n",
       "      <td>0.185822</td>\n",
       "      <td>0.004425</td>\n",
       "    </tr>\n",
       "    <tr>\n",
       "      <th>3</th>\n",
       "      <td>AVqVGZNvQMlgsOJE6eUY</td>\n",
       "      <td>Amazon Kindle E-Reader 6\" Wifi (8th Generation...</td>\n",
       "      <td>Computers,Electronics Features,Tablets,Electro...</td>\n",
       "      <td>Amazon</td>\n",
       "      <td>2017-11-02T17:33:31.000Z</td>\n",
       "      <td>2018-10-09T00:00:00Z</td>\n",
       "      <td>1.0</td>\n",
       "      <td>3.0</td>\n",
       "      <td>5.0</td>\n",
       "      <td>I am 100 happy with my purchase. I caught it o...</td>\n",
       "      <td>...</td>\n",
       "      <td>0.606253</td>\n",
       "      <td>-0.095045</td>\n",
       "      <td>0.004898</td>\n",
       "      <td>-0.589268</td>\n",
       "      <td>-0.082918</td>\n",
       "      <td>-0.612602</td>\n",
       "      <td>-0.071745</td>\n",
       "      <td>0.229055</td>\n",
       "      <td>0.751302</td>\n",
       "      <td>0.569672</td>\n",
       "    </tr>\n",
       "    <tr>\n",
       "      <th>4</th>\n",
       "      <td>AVqVGZNvQMlgsOJE6eUY</td>\n",
       "      <td>Amazon Kindle E-Reader 6\" Wifi (8th Generation...</td>\n",
       "      <td>Computers,Electronics Features,Tablets,Electro...</td>\n",
       "      <td>Amazon</td>\n",
       "      <td>2018-04-24T00:00:00.000Z</td>\n",
       "      <td>2018-05-27T00:00:00Z</td>\n",
       "      <td>1.0</td>\n",
       "      <td>0.0</td>\n",
       "      <td>5.0</td>\n",
       "      <td>Solid entry level Kindle. Great for kids. Gift...</td>\n",
       "      <td>...</td>\n",
       "      <td>-0.489695</td>\n",
       "      <td>0.313294</td>\n",
       "      <td>1.088919</td>\n",
       "      <td>-0.376338</td>\n",
       "      <td>0.021660</td>\n",
       "      <td>-0.073599</td>\n",
       "      <td>0.265098</td>\n",
       "      <td>0.548052</td>\n",
       "      <td>-0.685218</td>\n",
       "      <td>-0.300222</td>\n",
       "    </tr>\n",
       "  </tbody>\n",
       "</table>\n",
       "<p>5 rows × 130 columns</p>\n",
       "</div>"
      ],
      "text/plain": [
       "                     id                                               name  \\\n",
       "0  AVqVGZNvQMlgsOJE6eUY  Amazon Kindle E-Reader 6\" Wifi (8th Generation...   \n",
       "1  AVqVGZNvQMlgsOJE6eUY  Amazon Kindle E-Reader 6\" Wifi (8th Generation...   \n",
       "2  AVqVGZNvQMlgsOJE6eUY  Amazon Kindle E-Reader 6\" Wifi (8th Generation...   \n",
       "3  AVqVGZNvQMlgsOJE6eUY  Amazon Kindle E-Reader 6\" Wifi (8th Generation...   \n",
       "4  AVqVGZNvQMlgsOJE6eUY  Amazon Kindle E-Reader 6\" Wifi (8th Generation...   \n",
       "\n",
       "                                          categories manufacturer  \\\n",
       "0  Computers,Electronics Features,Tablets,Electro...       Amazon   \n",
       "1  Computers,Electronics Features,Tablets,Electro...       Amazon   \n",
       "2  Computers,Electronics Features,Tablets,Electro...       Amazon   \n",
       "3  Computers,Electronics Features,Tablets,Electro...       Amazon   \n",
       "4  Computers,Electronics Features,Tablets,Electro...       Amazon   \n",
       "\n",
       "               reviews.date  \\\n",
       "0  2017-09-03T00:00:00.000Z   \n",
       "1  2017-06-06T00:00:00.000Z   \n",
       "2  2018-04-20T00:00:00.000Z   \n",
       "3  2017-11-02T17:33:31.000Z   \n",
       "4  2018-04-24T00:00:00.000Z   \n",
       "\n",
       "                                    reviews.dateSeen  reviews.doRecommend  \\\n",
       "0  2018-05-27T00:00:00Z,2017-09-18T00:00:00Z,2017...                  0.0   \n",
       "1  2018-05-27T00:00:00Z,2017-07-07T00:00:00Z,2017...                  1.0   \n",
       "2                               2018-05-27T00:00:00Z                  1.0   \n",
       "3                               2018-10-09T00:00:00Z                  1.0   \n",
       "4                               2018-05-27T00:00:00Z                  1.0   \n",
       "\n",
       "   reviews.numHelpful  reviews.rating  \\\n",
       "0                 0.0             3.0   \n",
       "1                 0.0             5.0   \n",
       "2                 0.0             4.0   \n",
       "3                 3.0             5.0   \n",
       "4                 0.0             5.0   \n",
       "\n",
       "                                        reviews.text    ...     d2v_cmt40  \\\n",
       "0  I thought it would be as big as small paper bu...    ...      0.406725   \n",
       "1  This kindle is light and easy to use especiall...    ...     -0.207001   \n",
       "2  Didnt know how much i'd use a kindle so went f...    ...      0.180312   \n",
       "3  I am 100 happy with my purchase. I caught it o...    ...      0.606253   \n",
       "4  Solid entry level Kindle. Great for kids. Gift...    ...     -0.489695   \n",
       "\n",
       "  d2v_cmt41  d2v_cmt42  d2v_cmt43 d2v_cmt44  d2v_cmt45 d2v_cmt46 d2v_cmt47  \\\n",
       "0  0.490591   0.592947   0.086458 -0.216621  -0.880753  0.324097  0.840732   \n",
       "1  0.182017   0.119846  -0.233603  0.084920   0.089752 -0.378652  0.207999   \n",
       "2  0.443598   0.286322  -0.731421 -0.306343   0.091049 -0.637082  0.005416   \n",
       "3 -0.095045   0.004898  -0.589268 -0.082918  -0.612602 -0.071745  0.229055   \n",
       "4  0.313294   1.088919  -0.376338  0.021660  -0.073599  0.265098  0.548052   \n",
       "\n",
       "   d2v_cmt48  d2v_cmt49  \n",
       "0   0.369070   0.105539  \n",
       "1  -0.269092   0.137328  \n",
       "2   0.185822   0.004425  \n",
       "3   0.751302   0.569672  \n",
       "4  -0.685218  -0.300222  \n",
       "\n",
       "[5 rows x 130 columns]"
      ]
     },
     "execution_count": 83,
     "metadata": {},
     "output_type": "execute_result"
    }
   ],
   "source": [
    "df_full.head()"
   ]
  },
  {
   "cell_type": "code",
   "execution_count": 88,
   "metadata": {},
   "outputs": [],
   "source": [
    "columns1 = [\n",
    "     'bulk',\n",
    "     'senti_score',\n",
    "     'cmt_rank',\n",
    "     'topic_rank',\n",
    "     'cmt_w2v_mean',\n",
    "     'topic_w2v_mean',\n",
    "    'strong_bad_senti'\n",
    "]\n",
    "columns2 = [col for col in df_full.columns if col.startswith('d2v')]\n",
    "cols = columns1 + columns2\n",
    "X = df_full[cols]\n",
    "y = df_full['reviews.doRecommend']"
   ]
  },
  {
   "cell_type": "code",
   "execution_count": 90,
   "metadata": {},
   "outputs": [
    {
     "data": {
      "text/plain": [
       "(7508, 107)"
      ]
     },
     "execution_count": 90,
     "metadata": {},
     "output_type": "execute_result"
    }
   ],
   "source": [
    "X.shape"
   ]
  },
  {
   "cell_type": "markdown",
   "metadata": {},
   "source": [
    "# Apply manual ranking"
   ]
  },
  {
   "cell_type": "code",
   "execution_count": 115,
   "metadata": {},
   "outputs": [],
   "source": [
    "rank_matrix = [1]*X.shape[1]"
   ]
  },
  {
   "cell_type": "code",
   "execution_count": 116,
   "metadata": {},
   "outputs": [],
   "source": [
    "# weightages are given to cols of 'senti_score','cmt_rank','topic_rank','strong_bad_senti'\n",
    "rank_matrix[1],rank_matrix[2],rank_matrix[3],rank_matrix[6] = 5, 2, 2,10"
   ]
  },
  {
   "cell_type": "code",
   "execution_count": 130,
   "metadata": {},
   "outputs": [],
   "source": [
    "rank_matrix = pd.Series(rank_matrix).ravel()"
   ]
  },
  {
   "cell_type": "code",
   "execution_count": 133,
   "metadata": {},
   "outputs": [
    {
     "data": {
      "text/plain": [
       "(107,)"
      ]
     },
     "execution_count": 133,
     "metadata": {},
     "output_type": "execute_result"
    }
   ],
   "source": [
    "rank_matrix.shape"
   ]
  },
  {
   "cell_type": "code",
   "execution_count": 136,
   "metadata": {},
   "outputs": [],
   "source": [
    "def apply_ranking(row):\n",
    "    return row*(rank_matrix)\n",
    "\n",
    "X = X.apply(apply_ranking, axis=1)"
   ]
  },
  {
   "cell_type": "markdown",
   "metadata": {},
   "source": [
    "# Fit table with ML models"
   ]
  },
  {
   "cell_type": "code",
   "execution_count": 137,
   "metadata": {},
   "outputs": [],
   "source": [
    "from sklearn.preprocessing import StandardScaler\n",
    "scaler = StandardScaler()"
   ]
  },
  {
   "cell_type": "code",
   "execution_count": 138,
   "metadata": {},
   "outputs": [],
   "source": [
    "X_train, X_test, y_train, y_test = train_test_split(X, y, test_size=0.33, random_state=42)\n",
    "X_train = scaler.fit_transform(X_train)\n",
    "X_test = scaler.transform(X_test)"
   ]
  },
  {
   "cell_type": "code",
   "execution_count": 53,
   "metadata": {},
   "outputs": [],
   "source": [
    "def train_evaluate(estimator, X_train, y_train, X_test, y_test):\n",
    "    estimator.fit(X_train, y_train)\n",
    "    y_pred = estimator.predict(X_test)\n",
    "    \n",
    "    return (accuracy_score(y_test, y_pred), confusion_matrix(y_test, y_pred))"
   ]
  },
  {
   "cell_type": "code",
   "execution_count": 140,
   "metadata": {},
   "outputs": [
    {
     "name": "stderr",
     "output_type": "stream",
     "text": [
      "/anaconda3/envs/nlp_venv/lib/python3.6/site-packages/sklearn/linear_model/logistic.py:432: FutureWarning: Default solver will be changed to 'lbfgs' in 0.22. Specify a solver to silence this warning.\n",
      "  FutureWarning)\n",
      "/anaconda3/envs/nlp_venv/lib/python3.6/site-packages/sklearn/ensemble/forest.py:248: FutureWarning: The default value of n_estimators will change from 10 in version 0.20 to 100 in 0.22.\n",
      "  \"10 in version 0.20 to 100 in 0.22.\", FutureWarning)\n"
     ]
    },
    {
     "name": "stdout",
     "output_type": "stream",
     "text": [
      "(0.8559322033898306, array([[ 334,  214],\n",
      "       [ 143, 1787]]))\n",
      "__________________________________________________\n",
      "(0.844632768361582, array([[ 315,  233],\n",
      "       [ 152, 1778]]))\n",
      "__________________________________________________\n",
      "(0.811541565778854, array([[ 396,  152],\n",
      "       [ 315, 1615]]))\n",
      "__________________________________________________\n",
      "(0.8720742534301856, array([[ 348,  200],\n",
      "       [ 117, 1813]]))\n",
      "__________________________________________________\n"
     ]
    }
   ],
   "source": [
    "lgr = LogisticRegression()\n",
    "rf = RandomForestClassifier()\n",
    "gnb = GaussianNB()\n",
    "svm = SVC()\n",
    "\n",
    "for estimator in [lgr, rf, gnb, svm]:\n",
    "    print(train_evaluate(estimator, X_train, y_train, X_test, y_test))\n",
    "    print('_'*50)"
   ]
  },
  {
   "cell_type": "markdown",
   "metadata": {
    "colab_type": "text",
    "id": "vxH_uf515-E4"
   },
   "source": [
    "## SVM model gives the highest performance (accuracy 87.2%), followed by Logistic Regression model (accuracy 85.6%). Since Gridsearch on SVM is quite slow, here I'll grid search on Logistic Regression model."
   ]
  },
  {
   "cell_type": "code",
   "execution_count": 145,
   "metadata": {},
   "outputs": [],
   "source": [
    "param_range = np.logspace(-3,3,7)\n",
    "param_grid = [{'penalty': ['l1', 'l2'], 'C': param_range, 'solver': ['liblinear', 'saga']},\n",
    "          {'penalty': ['l2'], 'C': param_range, 'solver': ['newton-cg','sag', 'lbfgs']}]\n",
    "\n",
    "grid2 = GridSearchCV(lgr, param_grid, scoring='accuracy', n_jobs=-1, verbose=2, cv=3)"
   ]
  },
  {
   "cell_type": "code",
   "execution_count": 141,
   "metadata": {},
   "outputs": [
    {
     "name": "stdout",
     "output_type": "stream",
     "text": [
      "Fitting 3 folds for each of 49 candidates, totalling 147 fits\n"
     ]
    },
    {
     "name": "stderr",
     "output_type": "stream",
     "text": [
      "[Parallel(n_jobs=-1)]: Using backend LokyBackend with 8 concurrent workers.\n",
      "[Parallel(n_jobs=-1)]: Done  25 tasks      | elapsed:    3.1s\n",
      "[Parallel(n_jobs=-1)]: Done 147 out of 147 | elapsed:    8.6s finished\n"
     ]
    },
    {
     "data": {
      "text/plain": [
       "GridSearchCV(cv=3, error_score='raise-deprecating',\n",
       "       estimator=LogisticRegression(C=1.0, class_weight=None, dual=False, fit_intercept=True,\n",
       "          intercept_scaling=1, max_iter=100, multi_class='warn',\n",
       "          n_jobs=None, penalty='l2', random_state=None, solver='warn',\n",
       "          tol=0.0001, verbose=0, warm_start=False),\n",
       "       fit_params=None, iid='warn', n_jobs=-1,\n",
       "       param_grid=[{'penalty': ['l1', 'l2'], 'C': array([1.e-03, 1.e-02, 1.e-01, 1.e+00, 1.e+01, 1.e+02, 1.e+03]), 'solver': ['liblinear', 'saga']}, {'penalty': ['l2'], 'C': array([1.e-03, 1.e-02, 1.e-01, 1.e+00, 1.e+01, 1.e+02, 1.e+03]), 'solver': ['newton-cg', 'sag', 'lbfgs']}],\n",
       "       pre_dispatch='2*n_jobs', refit=True, return_train_score='warn',\n",
       "       scoring='accuracy', verbose=2)"
      ]
     },
     "execution_count": 141,
     "metadata": {},
     "output_type": "execute_result"
    }
   ],
   "source": [
    "grid2.fit(X_train, y_train)"
   ]
  },
  {
   "cell_type": "code",
   "execution_count": 142,
   "metadata": {},
   "outputs": [
    {
     "name": "stdout",
     "output_type": "stream",
     "text": [
      "accuracy:  0.8559322033898306\n",
      "conf matrix: \n",
      " [[ 322  226]\n",
      " [ 131 1799]]\n"
     ]
    }
   ],
   "source": [
    "y_pred = grid2.best_estimator_.predict(X_test)\n",
    "print('accuracy: ',accuracy_score(y_test, y_pred))\n",
    "print('conf matrix: \\n',confusion_matrix(y_test, y_pred))"
   ]
  },
  {
   "cell_type": "markdown",
   "metadata": {
    "colab_type": "text",
    "id": "ckNmKlUO5-FF"
   },
   "source": [
    "### The best Logistic Regression model after gridsearch gives an accuracy of <font color='red'>85.6% </font>\n",
    "### The best SVM model gives an accuracy of <font color='red'>87.2% </font>"
   ]
  },
  {
   "cell_type": "code",
   "execution_count": null,
   "metadata": {},
   "outputs": [],
   "source": []
  }
 ],
 "metadata": {
  "colab": {
   "collapsed_sections": [],
   "name": "YuXu_word2vec_doc2vec_fake_news.ipynb",
   "provenance": [],
   "version": "0.3.2"
  },
  "kernelspec": {
   "display_name": "Python 3",
   "language": "python",
   "name": "python3"
  },
  "language_info": {
   "codemirror_mode": {
    "name": "ipython",
    "version": 3
   },
   "file_extension": ".py",
   "mimetype": "text/x-python",
   "name": "python",
   "nbconvert_exporter": "python",
   "pygments_lexer": "ipython3",
   "version": "3.6.7"
  }
 },
 "nbformat": 4,
 "nbformat_minor": 1
}
