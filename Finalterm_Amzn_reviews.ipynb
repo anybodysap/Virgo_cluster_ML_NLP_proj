{
 "cells": [
  {
   "cell_type": "markdown",
   "metadata": {
    "colab_type": "text",
    "id": "liiS-J479Gvt"
   },
   "source": [
    "# Final Term - Amazon Reviews"
   ]
  },
  {
   "cell_type": "markdown",
   "metadata": {
    "colab_type": "text",
    "id": "ebnN4ikZzQtu"
   },
   "source": [
    "## Datasets:\n",
    "Original dataset: \n",
    "https://www.kaggle.com/adityapatil673/critical-assessment-amazon-reviews-on-kindle/data"
   ]
  },
  {
   "cell_type": "code",
   "execution_count": 1,
   "metadata": {
    "colab": {
     "base_uri": "https://localhost:8080/",
     "height": 102
    },
    "colab_type": "code",
    "id": "vymCp8X8IHEk",
    "outputId": "71e6be37-59c8-4f11-c086-eb0564d60a80"
   },
   "outputs": [
    {
     "name": "stderr",
     "output_type": "stream",
     "text": [
      "/anaconda3/envs/nlp_venv/lib/python3.6/site-packages/nltk/twitter/__init__.py:20: UserWarning: The twython library has not been installed. Some functionality from the twitter package will not be available.\n",
      "  warnings.warn(\"The twython library has not been installed. \"\n"
     ]
    },
    {
     "name": "stdout",
     "output_type": "stream",
     "text": [
      "[nltk_data] Downloading package vader_lexicon to\n",
      "[nltk_data]     /Users/yuxu/nltk_data...\n",
      "[nltk_data]   Package vader_lexicon is already up-to-date!\n",
      "[nltk_data] Downloading package punkt to /Users/yuxu/nltk_data...\n",
      "[nltk_data]   Package punkt is already up-to-date!\n",
      "[nltk_data] Downloading package stopwords to /Users/yuxu/nltk_data...\n",
      "[nltk_data]   Package stopwords is already up-to-date!\n",
      "[nltk_data] Downloading package wordnet to /Users/yuxu/nltk_data...\n",
      "[nltk_data]   Package wordnet is already up-to-date!\n"
     ]
    },
    {
     "data": {
      "text/plain": [
       "True"
      ]
     },
     "execution_count": 1,
     "metadata": {},
     "output_type": "execute_result"
    }
   ],
   "source": [
    "# dependencies\n",
    "import pandas as pd\n",
    "import nltk\n",
    "import numpy as np\n",
    "import io\n",
    "import requests\n",
    "from sklearn.feature_extraction.text import TfidfVectorizer\n",
    "from nltk import word_tokenize\n",
    "from nltk.corpus import stopwords\n",
    "# from sklearn.pipeline import Pipeline\n",
    "from sklearn.decomposition import TruncatedSVD\n",
    "from sklearn.feature_selection import chi2\n",
    "from string import punctuation\n",
    "from nltk import PorterStemmer\n",
    "import copy \n",
    "import re, math\n",
    "from sklearn.model_selection import train_test_split\n",
    "from nltk import WordNetLemmatizer\n",
    "from nltk import bigrams\n",
    "from nltk.util import ngrams\n",
    "from nltk.sentiment.vader import SentimentIntensityAnalyzer\n",
    "from gensim.models.ldamodel import LdaModel\n",
    "from gensim.models import Doc2Vec, Word2Vec\n",
    "from gensim.corpora import Dictionary\n",
    "import pickle\n",
    "from collections import Counter\n",
    "from sklearn.ensemble import RandomForestClassifier\n",
    "from sklearn.svm import SVC\n",
    "from sklearn.linear_model import LogisticRegression\n",
    "from sklearn.naive_bayes import GaussianNB\n",
    "from sklearn.metrics import accuracy_score, confusion_matrix, roc_auc_score\n",
    "from sklearn.model_selection import GridSearchCV\n",
    "from xgboost import XGBClassifier\n",
    "\n",
    "nltk.download('vader_lexicon')\n",
    "nltk.download('punkt')\n",
    "nltk.download('stopwords')\n",
    "nltk.download('wordnet')"
   ]
  },
  {
   "cell_type": "markdown",
   "metadata": {},
   "source": [
    "# Import data and generate data table with summary statistics"
   ]
  },
  {
   "cell_type": "code",
   "execution_count": 2,
   "metadata": {
    "colab": {},
    "colab_type": "code",
    "id": "VmVjSdSC5-DC",
    "scrolled": true
   },
   "outputs": [],
   "source": [
    "df = pd.read_csv('Datafiniti_Amazon_Consumer_Reviews_of_Amazon_Products.csv')"
   ]
  },
  {
   "cell_type": "code",
   "execution_count": 3,
   "metadata": {},
   "outputs": [],
   "source": [
    "df= df[df.name.str.contains(\"Kindle|kindle\")==False]"
   ]
  },
  {
   "cell_type": "code",
   "execution_count": 4,
   "metadata": {
    "scrolled": true
   },
   "outputs": [
    {
     "data": {
      "text/plain": [
       "Amazon Echo Show Alexa-enabled Bluetooth Speaker with 7\" Screen                                     845\n",
       "All-New Fire HD 8 Tablet, 8\" HD Display, Wi-Fi, 16 GB - Includes Special Offers, Magenta            797\n",
       "Amazon - Echo Plus w/ Built-In Hub - Silver                                                         590\n",
       "Fire Kids Edition Tablet, 7 Display, Wi-Fi, 16 GB, Blue Kid-Proof Case                              561\n",
       "Fire Tablet, 7 Display, Wi-Fi, 16 GB - Includes Special Offers, Black                               371\n",
       "Amazon Tap - Alexa-Enabled Portable Bluetooth Speaker                                               225\n",
       "Fire Kids Edition Tablet, 7 Display, Wi-Fi, 16 GB, Green Kid-Proof Case                             217\n",
       "Fire HD 10 Tablet, 10.1 HD Display, Wi-Fi, 16 GB - Includes Special Offers, Silver Aluminum         106\n",
       "Fire Tablet with Alexa, 7\" Display, 16 GB, Magenta - with Special Offers                            101\n",
       "All-New Fire HD 8 Tablet, 8 HD Display, Wi-Fi, 32 GB - Includes Special Offers, Blue                 70\n",
       "All-New Fire HD 8 Tablet, 8\" HD Display, Wi-Fi, 32 GB - Includes Special Offers, Black               58\n",
       "Fire HD 8 Tablet with Alexa, 8\" HD Display, 32 GB, Tangerine - with Special Offers                   53\n",
       "All-New Fire HD 8 Tablet, 8 HD Display, Wi-Fi, 16 GB - Includes Special Offers, Blue                 51\n",
       "All-New Fire HD 8 Tablet, 8\" HD Display, Wi-Fi, 32 GB - Includes Special Offers, Magenta             40\n",
       "Amazon Fire TV with 4K Ultra HD and Alexa Voice Remote (Pendant Design) | Streaming Media Player      4\n",
       "Name: name, dtype: int64"
      ]
     },
     "execution_count": 4,
     "metadata": {},
     "output_type": "execute_result"
    }
   ],
   "source": [
    "df.name.value_counts()"
   ]
  },
  {
   "cell_type": "markdown",
   "metadata": {},
   "source": [
    "#### All Kindle products have been removed"
   ]
  },
  {
   "cell_type": "code",
   "execution_count": 5,
   "metadata": {
    "scrolled": false
   },
   "outputs": [
    {
     "name": "stdout",
     "output_type": "stream",
     "text": [
      "<class 'pandas.core.frame.DataFrame'>\n",
      "Int64Index: 4089 entries, 96 to 4999\n",
      "Data columns (total 24 columns):\n",
      "id                     4089 non-null object\n",
      "dateAdded              4089 non-null object\n",
      "dateUpdated            4089 non-null object\n",
      "name                   4089 non-null object\n",
      "asins                  4089 non-null object\n",
      "brand                  4089 non-null object\n",
      "categories             4089 non-null object\n",
      "primaryCategories      4089 non-null object\n",
      "imageURLs              4089 non-null object\n",
      "keys                   4089 non-null object\n",
      "manufacturer           4089 non-null object\n",
      "manufacturerNumber     4089 non-null object\n",
      "reviews.date           4089 non-null object\n",
      "reviews.dateAdded      991 non-null object\n",
      "reviews.dateSeen       4089 non-null object\n",
      "reviews.doRecommend    4089 non-null bool\n",
      "reviews.id             24 non-null float64\n",
      "reviews.numHelpful     4089 non-null int64\n",
      "reviews.rating         4089 non-null int64\n",
      "reviews.sourceURLs     4089 non-null object\n",
      "reviews.text           4089 non-null object\n",
      "reviews.title          4076 non-null object\n",
      "reviews.username       4089 non-null object\n",
      "sourceURLs             4089 non-null object\n",
      "dtypes: bool(1), float64(1), int64(2), object(20)\n",
      "memory usage: 770.7+ KB\n"
     ]
    }
   ],
   "source": [
    "df.info()"
   ]
  },
  {
   "cell_type": "code",
   "execution_count": 6,
   "metadata": {},
   "outputs": [
    {
     "name": "stdout",
     "output_type": "stream",
     "text": [
      "id : 16\n",
      "dateAdded : 14\n",
      "dateUpdated : 11\n",
      "name : 15\n",
      "asins : 16\n",
      "brand : 1\n",
      "categories : 15\n",
      "primaryCategories : 3\n",
      "imageURLs : 16\n",
      "keys : 16\n",
      "manufacturer : 1\n",
      "manufacturerNumber : 16\n",
      "reviews.date : 572\n",
      "reviews.dateAdded : 377\n",
      "reviews.dateSeen : 287\n",
      "reviews.doRecommend : 2\n",
      "reviews.id : 21\n",
      "reviews.numHelpful : 22\n",
      "reviews.rating : 5\n",
      "reviews.sourceURLs : 2230\n",
      "reviews.text : 3766\n",
      "reviews.title : 2703\n",
      "reviews.username : 3310\n",
      "sourceURLs : 16\n"
     ]
    }
   ],
   "source": [
    "for col in df.columns:\n",
    "    print(f'{col} : {df[col].nunique()}')"
   ]
  },
  {
   "cell_type": "markdown",
   "metadata": {},
   "source": [
    "#### There are several columns not useful for the study"
   ]
  },
  {
   "cell_type": "code",
   "execution_count": 7,
   "metadata": {},
   "outputs": [],
   "source": [
    "df.drop(['asins','reviews.id','dateUpdated','dateUpdated', 'primaryCategories', 'manufacturerNumber','reviews.dateAdded','reviews.id','brand','imageURLs','keys','reviews.sourceURLs','sourceURLs'], axis=1, inplace=True)"
   ]
  },
  {
   "cell_type": "code",
   "execution_count": 8,
   "metadata": {},
   "outputs": [
    {
     "data": {
      "text/plain": [
       "True     3913\n",
       "False     176\n",
       "Name: reviews.doRecommend, dtype: int64"
      ]
     },
     "execution_count": 8,
     "metadata": {},
     "output_type": "execute_result"
    }
   ],
   "source": [
    "df['reviews.doRecommend'].value_counts()"
   ]
  },
  {
   "cell_type": "code",
   "execution_count": 9,
   "metadata": {},
   "outputs": [
    {
     "data": {
      "text/plain": [
       "5    2855\n",
       "4     991\n",
       "3     152\n",
       "2      46\n",
       "1      45\n",
       "Name: reviews.rating, dtype: int64"
      ]
     },
     "execution_count": 9,
     "metadata": {},
     "output_type": "execute_result"
    }
   ],
   "source": [
    "df['reviews.rating'].value_counts()"
   ]
  },
  {
   "cell_type": "markdown",
   "metadata": {},
   "source": [
    "## Data is heavily skewed toward rating >3 and recommendation == True. Need to enrich with data that have lower rating or recommendation == False"
   ]
  },
  {
   "cell_type": "code",
   "execution_count": 10,
   "metadata": {},
   "outputs": [
    {
     "name": "stderr",
     "output_type": "stream",
     "text": [
      "/anaconda3/envs/nlp_venv/lib/python3.6/site-packages/IPython/core/interactiveshell.py:3020: DtypeWarning: Columns (1,10) have mixed types. Specify dtype option on import or set low_memory=False.\n",
      "  interactivity=interactivity, compiler=compiler, result=result)\n"
     ]
    }
   ],
   "source": [
    "df_large = pd.read_csv('1429_1.csv')"
   ]
  },
  {
   "cell_type": "code",
   "execution_count": 11,
   "metadata": {},
   "outputs": [],
   "source": [
    "df_large = df_large[df_large.name.str.contains(\"Kindle|kindle\")==False]"
   ]
  },
  {
   "cell_type": "code",
   "execution_count": 12,
   "metadata": {},
   "outputs": [
    {
     "data": {
      "text/plain": [
       "Fire Tablet, 7 Display, Wi-Fi, 8 GB - Includes Special Offers, Magenta                                                                                                                  10966\n",
       "Echo (White),,,\\r\\nEcho (White),,,                                                                                                                                                       3309\n",
       "All-New Fire HD 8 Tablet, 8 HD Display, Wi-Fi, 16 GB - Includes Special Offers, Magenta                                                                                                  2814\n",
       "Amazon Fire Tv,,,\\r\\nAmazon Fire Tv,,,                                                                                                                                                   2527\n",
       "Fire Kids Edition Tablet, 7 Display, Wi-Fi, 16 GB, Green Kid-Proof Case                                                                                                                  1685\n",
       "Fire Tablet, 7 Display, Wi-Fi, 8 GB - Includes Special Offers, Black                                                                                                                      372\n",
       "Amazon - Amazon Tap Portable Bluetooth and Wi-Fi Speaker - Black,,,\\r\\nAmazon - Amazon Tap Portable Bluetooth and Wi-Fi Speaker - Black,,,                                                318\n",
       "All-New Fire HD 8 Tablet, 8 HD Display, Wi-Fi, 32 GB - Includes Special Offers, Magenta                                                                                                   158\n",
       "Amazon Fire Hd 8 8in Tablet 16gb Black B018szt3bk 6th Gen (2016) Android,,,\\r\\nAmazon Fire Hd 8 8in Tablet 16gb Black B018szt3bk 6th Gen (2016) Android,,,                                135\n",
       "Amazon Fire Hd 10 Tablet, Wi-Fi, 16 Gb, Special Offers - Silver Aluminum,,,\\r\\nAmazon Fire Hd 10 Tablet, Wi-Fi, 16 Gb, Special Offers - Silver Aluminum,,,                                128\n",
       "Fire HD 8 Tablet with Alexa, 8 HD Display, 32 GB, Tangerine - with Special Offers,                                                                                                         14\n",
       "Amazon Echo and Fire TV Power Adapter,,,\\r\\nAmazon Echo and Fire TV Power Adapter,,,                                                                                                        8\n",
       "Amazon Fire Hd 6 Standing Protective Case(4th Generation - 2014 Release), Cayenne Red,,,\\r\\nAmazon Fire Hd 6 Standing Protective Case(4th Generation - 2014 Release), Cayenne Red,,,        6\n",
       "Fire HD 8 Tablet with Alexa, 8 HD Display, 16 GB, Tangerine - with Special Offers,                                                                                                          6\n",
       "Amazon Fire Kids Edition Tablet, 7 Display, Wi-Fi, 16 GB, Blue Kid-Proof Case - Blue                                                                                                        6\n",
       "Amazon - Fire 16GB (5th Gen, 2015 Release) - Black,,,\\r\\nAmazon - Fire 16GB (5th Gen, 2015 Release) - Black,,,                                                                              5\n",
       "Certified Refurbished Amazon Fire TV with Alexa Voice Remote,,,\\r\\nCertified Refurbished Amazon Fire TV with Alexa Voice Remote,,,                                                          4\n",
       "Echo (Black),,,\\r\\nEcho (Black),,,                                                                                                                                                          3\n",
       "Certified Refurbished Amazon Fire TV (Previous Generation - 1st),,,\\r\\nCertified Refurbished Amazon Fire TV (Previous Generation - 1st),,,                                                  3\n",
       "Certified Refurbished Amazon Fire TV Stick (Previous Generation - 1st),,,\\r\\nCertified Refurbished Amazon Fire TV Stick (Previous Generation - 1st),,,                                      1\n",
       "Coconut Water Red Tea 16.5 Oz (pack of 12),,,\\r\\nAmazon Fire Tv,,,                                                                                                                          1\n",
       "Amazon Standing Protective Case for Fire HD 6 (4th Generation) - Black,,,\\r\\nAmazon Standing Protective Case for Fire HD 6 (4th Generation) - Black,,,                                      1\n",
       "Echo (White),,,\\r\\nFire Tablet, 7 Display, Wi-Fi, 8 GB - Includes Special Offers, Tangerine\"                                                                                                1\n",
       "Name: name, dtype: int64"
      ]
     },
     "execution_count": 12,
     "metadata": {},
     "output_type": "execute_result"
    }
   ],
   "source": [
    "df_large.name.value_counts()"
   ]
  },
  {
   "cell_type": "code",
   "execution_count": 13,
   "metadata": {},
   "outputs": [
    {
     "data": {
      "text/plain": [
       "True     21383\n",
       "False     1019\n",
       "Name: reviews.doRecommend, dtype: int64"
      ]
     },
     "execution_count": 13,
     "metadata": {},
     "output_type": "execute_result"
    }
   ],
   "source": [
    "df_large['reviews.doRecommend'].value_counts()"
   ]
  },
  {
   "cell_type": "code",
   "execution_count": 14,
   "metadata": {},
   "outputs": [
    {
     "data": {
      "text/plain": [
       "5.0    14553\n",
       "4.0     6206\n",
       "3.0     1137\n",
       "2.0      289\n",
       "1.0      266\n",
       "Name: reviews.rating, dtype: int64"
      ]
     },
     "execution_count": 14,
     "metadata": {},
     "output_type": "execute_result"
    }
   ],
   "source": [
    "df_large['reviews.rating'].value_counts()"
   ]
  },
  {
   "cell_type": "code",
   "execution_count": 15,
   "metadata": {},
   "outputs": [],
   "source": [
    "# enrich original 5000 review data with large data that have recommendation == False or rating <=3\n",
    "# low_rated_data = df_large[(df_large['reviews.rating']<=3) | (df_large['reviews.doRecommend'] == False)]"
   ]
  },
  {
   "cell_type": "code",
   "execution_count": 16,
   "metadata": {},
   "outputs": [],
   "source": [
    "columns = ['id', 'name', 'categories', 'manufacturer', 'reviews.date',\n",
    "       'reviews.dateSeen', 'reviews.doRecommend', 'reviews.numHelpful',\n",
    "       'reviews.rating', 'reviews.text', 'reviews.title', 'reviews.username']\n",
    "df = pd.concat([df[columns], df_large[columns]],axis=0)"
   ]
  },
  {
   "cell_type": "code",
   "execution_count": 17,
   "metadata": {},
   "outputs": [
    {
     "name": "stdout",
     "output_type": "stream",
     "text": [
      "<class 'pandas.core.frame.DataFrame'>\n",
      "Int64Index: 26560 entries, 96 to 27878\n",
      "Data columns (total 12 columns):\n",
      "id                     26560 non-null object\n",
      "name                   26560 non-null object\n",
      "categories             26560 non-null object\n",
      "manufacturer           26560 non-null object\n",
      "reviews.date           26543 non-null object\n",
      "reviews.dateSeen       26560 non-null object\n",
      "reviews.doRecommend    26491 non-null object\n",
      "reviews.numHelpful     26516 non-null float64\n",
      "reviews.rating         26540 non-null float64\n",
      "reviews.text           26560 non-null object\n",
      "reviews.title          26545 non-null object\n",
      "reviews.username       26558 non-null object\n",
      "dtypes: float64(2), object(10)\n",
      "memory usage: 2.6+ MB\n"
     ]
    }
   ],
   "source": [
    "df.info()"
   ]
  },
  {
   "cell_type": "markdown",
   "metadata": {},
   "source": [
    "#### remove null values"
   ]
  },
  {
   "cell_type": "code",
   "execution_count": 18,
   "metadata": {},
   "outputs": [],
   "source": [
    "df.dropna(subset=['reviews.doRecommend','reviews.rating','reviews.title','reviews.username'], how='any', inplace = True)"
   ]
  },
  {
   "cell_type": "code",
   "execution_count": 19,
   "metadata": {},
   "outputs": [
    {
     "data": {
      "text/plain": [
       "26475"
      ]
     },
     "execution_count": 19,
     "metadata": {},
     "output_type": "execute_result"
    }
   ],
   "source": [
    "len(df)"
   ]
  },
  {
   "cell_type": "code",
   "execution_count": 20,
   "metadata": {},
   "outputs": [
    {
     "name": "stdout",
     "output_type": "stream",
     "text": [
      "<class 'pandas.core.frame.DataFrame'>\n",
      "Int64Index: 26475 entries, 96 to 27878\n",
      "Data columns (total 12 columns):\n",
      "id                     26475 non-null object\n",
      "name                   26475 non-null object\n",
      "categories             26475 non-null object\n",
      "manufacturer           26475 non-null object\n",
      "reviews.date           26475 non-null object\n",
      "reviews.dateSeen       26475 non-null object\n",
      "reviews.doRecommend    26475 non-null object\n",
      "reviews.numHelpful     26475 non-null float64\n",
      "reviews.rating         26475 non-null float64\n",
      "reviews.text           26475 non-null object\n",
      "reviews.title          26475 non-null object\n",
      "reviews.username       26475 non-null object\n",
      "dtypes: float64(2), object(10)\n",
      "memory usage: 2.6+ MB\n"
     ]
    }
   ],
   "source": [
    "df.info()"
   ]
  },
  {
   "cell_type": "code",
   "execution_count": 21,
   "metadata": {},
   "outputs": [],
   "source": [
    "df['reviews.doRecommend'].replace({False: 0, True:1}, inplace=True)"
   ]
  },
  {
   "cell_type": "code",
   "execution_count": 22,
   "metadata": {},
   "outputs": [
    {
     "data": {
      "text/plain": [
       "1    25281\n",
       "0     1194\n",
       "Name: reviews.doRecommend, dtype: int64"
      ]
     },
     "execution_count": 22,
     "metadata": {},
     "output_type": "execute_result"
    }
   ],
   "source": [
    "df['reviews.doRecommend'].value_counts()"
   ]
  },
  {
   "cell_type": "code",
   "execution_count": 23,
   "metadata": {},
   "outputs": [
    {
     "data": {
      "text/plain": [
       "5.0    17361\n",
       "4.0     7188\n",
       "3.0     1286\n",
       "2.0      332\n",
       "1.0      308\n",
       "Name: reviews.rating, dtype: int64"
      ]
     },
     "execution_count": 23,
     "metadata": {},
     "output_type": "execute_result"
    }
   ],
   "source": [
    "df['reviews.rating'].value_counts()"
   ]
  },
  {
   "cell_type": "code",
   "execution_count": null,
   "metadata": {},
   "outputs": [],
   "source": [
    "# convert rating >3 to 1 and rating <=3 to 0\n",
    "# df.loc[df['reviews.rating']>3,'label'] = 1\n",
    "# df.loc[df['reviews.rating']<=3,'label'] = 0"
   ]
  },
  {
   "cell_type": "code",
   "execution_count": null,
   "metadata": {},
   "outputs": [],
   "source": [
    "# df.label.value_counts()"
   ]
  },
  {
   "cell_type": "markdown",
   "metadata": {},
   "source": [
    "# Check whether review is biased to spam reviewers"
   ]
  },
  {
   "cell_type": "code",
   "execution_count": 24,
   "metadata": {},
   "outputs": [
    {
     "name": "stdout",
     "output_type": "stream",
     "text": [
      "% of reviewers with >=10 reviews: 0.691327%\n",
      "% of reviews posted by bulk reviewers: 9.174693%\n"
     ]
    }
   ],
   "source": [
    "user_reviews = df['reviews.username'].value_counts()\n",
    "bulk_reviewers = user_reviews[user_reviews>=10]\n",
    "print('% of reviewers with >=10 reviews: {:02f}%'.format(len(bulk_reviewers)*100/len(user_reviews)))\n",
    "print('% of reviews posted by bulk reviewers: {:02f}%'.format(sum(bulk_reviewers)*100/sum(user_reviews)))"
   ]
  },
  {
   "cell_type": "code",
   "execution_count": 25,
   "metadata": {
    "scrolled": false
   },
   "outputs": [
    {
     "name": "stdout",
     "output_type": "stream",
     "text": [
      "[<matplotlib.axes._subplots.AxesSubplot object at 0x1a182e6eb8>\n",
      " <matplotlib.axes._subplots.AxesSubplot object at 0x1a18c63b38>]\n",
      "count    2429.000000\n",
      "mean        4.580897\n",
      "std         0.718476\n",
      "min         1.000000\n",
      "25%         4.000000\n",
      "50%         5.000000\n",
      "75%         5.000000\n",
      "max         5.000000\n",
      "Name: reviews.rating, dtype: float64\n",
      "count    24046.000000\n",
      "mean         4.543791\n",
      "std          0.751055\n",
      "min          1.000000\n",
      "25%          4.000000\n",
      "50%          5.000000\n",
      "75%          5.000000\n",
      "max          5.000000\n",
      "Name: reviews.rating, dtype: float64\n"
     ]
    },
    {
     "data": {
      "image/png": "[encoded data removed]",
      "text/plain": [
       "<Figure size 432x288 with 2 Axes>"
      ]
     },
     "metadata": {
      "needs_background": "light"
     },
     "output_type": "display_data"
    }
   ],
   "source": [
    "df['bulk']= df['reviews.username'].apply(lambda x : 1 if x in bulk_reviewers.index else 0)\n",
    "#gives us the category whether a rating is bulk or not\n",
    "from matplotlib import pyplot as plt\n",
    "%matplotlib inline\n",
    "print(df['reviews.rating'].hist(by=df.bulk))\n",
    "print(df[df.bulk==1]['reviews.rating'].describe())\n",
    "print(df[df.bulk==0]['reviews.rating'].describe())"
   ]
  },
  {
   "cell_type": "markdown",
   "metadata": {},
   "source": [
    "## Not too much rating differences between bulk and single reviewers. Likely those bulk reviewers were just frequent shopper and vocal reviewers than spammers."
   ]
  },
  {
   "cell_type": "markdown",
   "metadata": {},
   "source": [
    "# Find the NPS net promoter score of amazon"
   ]
  },
  {
   "cell_type": "code",
   "execution_count": 26,
   "metadata": {
    "scrolled": false
   },
   "outputs": [
    {
     "name": "stdout",
     "output_type": "stream",
     "text": [
      "*** Rating distribution ***\n",
      "5.0    17361\n",
      "4.0     7188\n",
      "3.0     1286\n",
      "2.0      332\n",
      "1.0      308\n",
      "Name: reviews.rating, dtype: int64\n"
     ]
    },
    {
     "data": {
      "text/plain": [
       "<matplotlib.axes._subplots.AxesSubplot at 0x1a18c999e8>"
      ]
     },
     "execution_count": 26,
     "metadata": {},
     "output_type": "execute_result"
    },
    {
     "data": {
      "image/png": "[encoded data removed]",
      "text/plain": [
       "<Figure size 432x432 with 1 Axes>"
      ]
     },
     "metadata": {
      "needs_background": "light"
     },
     "output_type": "display_data"
    }
   ],
   "source": [
    "star = df['reviews.rating'].value_counts()\n",
    "print(\"*** Rating distribution ***\")\n",
    "print(star)\n",
    "star.sort_index(inplace=True)\n",
    "star.plot(kind='bar',title='Amazon customer ratings',figsize=(6,6),style='Solarize_Light2')"
   ]
  },
  {
   "cell_type": "markdown",
   "metadata": {},
   "source": [
    "Net Promoters Score helps us evaluate customer satisfaction and loyalty\n",
    "Rating 1,2,3 - Detractors \n",
    "Rating 4 - Passive \n",
    "Rating 5 - Promoters \n",
    "\n",
    "NPS = (Promoters - Detractors)/Total ratings * 100"
   ]
  },
  {
   "cell_type": "code",
   "execution_count": 27,
   "metadata": {},
   "outputs": [
    {
     "name": "stdout",
     "output_type": "stream",
     "text": [
      " NPS score of Amazon is : 58.3\n"
     ]
    }
   ],
   "source": [
    "NPS_score = round (100*((star.loc[5])-sum(star.loc[1:3]))/sum(star.loc[:]),2)\n",
    "print (\" NPS score of Amazon is : \"  + str(NPS_score))"
   ]
  },
  {
   "cell_type": "markdown",
   "metadata": {},
   "source": [
    "# Pick a product and deep dive"
   ]
  },
  {
   "cell_type": "code",
   "execution_count": 28,
   "metadata": {
    "scrolled": true
   },
   "outputs": [
    {
     "data": {
      "text/plain": [
       "Fire Tablet, 7 Display, Wi-Fi, 8 GB - Includes Special Offers, Magenta                                                                                                                  10961\n",
       "Echo (White),,,\\r\\nEcho (White),,,                                                                                                                                                       3299\n",
       "All-New Fire HD 8 Tablet, 8 HD Display, Wi-Fi, 16 GB - Includes Special Offers, Magenta                                                                                                  2814\n",
       "Amazon Fire Tv,,,\\r\\nAmazon Fire Tv,,,                                                                                                                                                   2526\n",
       "Fire Kids Edition Tablet, 7 Display, Wi-Fi, 16 GB, Green Kid-Proof Case                                                                                                                  1896\n",
       "Amazon Echo Show Alexa-enabled Bluetooth Speaker with 7\" Screen                                                                                                                           833\n",
       "All-New Fire HD 8 Tablet, 8\" HD Display, Wi-Fi, 16 GB - Includes Special Offers, Magenta                                                                                                  797\n",
       "Amazon - Echo Plus w/ Built-In Hub - Silver                                                                                                                                               590\n",
       "Fire Kids Edition Tablet, 7 Display, Wi-Fi, 16 GB, Blue Kid-Proof Case                                                                                                                    561\n",
       "Fire Tablet, 7 Display, Wi-Fi, 16 GB - Includes Special Offers, Black                                                                                                                     371\n",
       "Fire Tablet, 7 Display, Wi-Fi, 8 GB - Includes Special Offers, Black                                                                                                                      334\n",
       "Amazon - Amazon Tap Portable Bluetooth and Wi-Fi Speaker - Black,,,\\r\\nAmazon - Amazon Tap Portable Bluetooth and Wi-Fi Speaker - Black,,,                                                318\n",
       "Amazon Tap - Alexa-Enabled Portable Bluetooth Speaker                                                                                                                                     225\n",
       "All-New Fire HD 8 Tablet, 8 HD Display, Wi-Fi, 32 GB - Includes Special Offers, Magenta                                                                                                   146\n",
       "Amazon Fire Hd 8 8in Tablet 16gb Black B018szt3bk 6th Gen (2016) Android,,,\\r\\nAmazon Fire Hd 8 8in Tablet 16gb Black B018szt3bk 6th Gen (2016) Android,,,                                135\n",
       "Amazon Fire Hd 10 Tablet, Wi-Fi, 16 Gb, Special Offers - Silver Aluminum,,,\\r\\nAmazon Fire Hd 10 Tablet, Wi-Fi, 16 Gb, Special Offers - Silver Aluminum,,,                                128\n",
       "Fire HD 10 Tablet, 10.1 HD Display, Wi-Fi, 16 GB - Includes Special Offers, Silver Aluminum                                                                                               106\n",
       "Fire Tablet with Alexa, 7\" Display, 16 GB, Magenta - with Special Offers                                                                                                                  101\n",
       "All-New Fire HD 8 Tablet, 8 HD Display, Wi-Fi, 32 GB - Includes Special Offers, Blue                                                                                                       70\n",
       "All-New Fire HD 8 Tablet, 8\" HD Display, Wi-Fi, 32 GB - Includes Special Offers, Black                                                                                                     58\n",
       "Fire HD 8 Tablet with Alexa, 8\" HD Display, 32 GB, Tangerine - with Special Offers                                                                                                         53\n",
       "All-New Fire HD 8 Tablet, 8 HD Display, Wi-Fi, 16 GB - Includes Special Offers, Blue                                                                                                       51\n",
       "All-New Fire HD 8 Tablet, 8\" HD Display, Wi-Fi, 32 GB - Includes Special Offers, Magenta                                                                                                   40\n",
       "Fire HD 8 Tablet with Alexa, 8 HD Display, 32 GB, Tangerine - with Special Offers,                                                                                                         14\n",
       "Amazon Echo and Fire TV Power Adapter,,,\\r\\nAmazon Echo and Fire TV Power Adapter,,,                                                                                                        8\n",
       "Amazon Fire Hd 6 Standing Protective Case(4th Generation - 2014 Release), Cayenne Red,,,\\r\\nAmazon Fire Hd 6 Standing Protective Case(4th Generation - 2014 Release), Cayenne Red,,,        6\n",
       "Fire HD 8 Tablet with Alexa, 8 HD Display, 16 GB, Tangerine - with Special Offers,                                                                                                          6\n",
       "Amazon Fire Kids Edition Tablet, 7 Display, Wi-Fi, 16 GB, Blue Kid-Proof Case - Blue                                                                                                        6\n",
       "Amazon - Fire 16GB (5th Gen, 2015 Release) - Black,,,\\r\\nAmazon - Fire 16GB (5th Gen, 2015 Release) - Black,,,                                                                              5\n",
       "Certified Refurbished Amazon Fire TV with Alexa Voice Remote,,,\\r\\nCertified Refurbished Amazon Fire TV with Alexa Voice Remote,,,                                                          4\n",
       "Echo (Black),,,\\r\\nEcho (Black),,,                                                                                                                                                          3\n",
       "Certified Refurbished Amazon Fire TV (Previous Generation - 1st),,,\\r\\nCertified Refurbished Amazon Fire TV (Previous Generation - 1st),,,                                                  3\n",
       "Amazon Fire TV with 4K Ultra HD and Alexa Voice Remote (Pendant Design) | Streaming Media Player                                                                                            3\n",
       "Coconut Water Red Tea 16.5 Oz (pack of 12),,,\\r\\nAmazon Fire Tv,,,                                                                                                                          1\n",
       "Certified Refurbished Amazon Fire TV Stick (Previous Generation - 1st),,,\\r\\nCertified Refurbished Amazon Fire TV Stick (Previous Generation - 1st),,,                                      1\n",
       "Amazon Standing Protective Case for Fire HD 6 (4th Generation) - Black,,,\\r\\nAmazon Standing Protective Case for Fire HD 6 (4th Generation) - Black,,,                                      1\n",
       "Echo (White),,,\\r\\nFire Tablet, 7 Display, Wi-Fi, 8 GB - Includes Special Offers, Tangerine\"                                                                                                1\n",
       "Name: name, dtype: int64"
      ]
     },
     "execution_count": 28,
     "metadata": {},
     "output_type": "execute_result"
    }
   ],
   "source": [
    "df.name.value_counts()"
   ]
  },
  {
   "cell_type": "code",
   "execution_count": 31,
   "metadata": {},
   "outputs": [],
   "source": [
    "tablet=df[df.name=='Fire Tablet, 7 Display, Wi-Fi, 8 GB - Includes Special Offers, Magenta']"
   ]
  },
  {
   "cell_type": "code",
   "execution_count": 34,
   "metadata": {},
   "outputs": [
    {
     "name": "stdout",
     "output_type": "stream",
     "text": [
      " NPS score of Tablet is : 49.79\n"
     ]
    },
    {
     "data": {
      "text/plain": [
       "<matplotlib.axes._subplots.AxesSubplot at 0x1a15659e10>"
      ]
     },
     "execution_count": 34,
     "metadata": {},
     "output_type": "execute_result"
    },
    {
     "data": {
      "image/png": "[encoded data removed]",
      "text/plain": [
       "<Figure size 432x432 with 1 Axes>"
      ]
     },
     "metadata": {
      "needs_background": "light"
     },
     "output_type": "display_data"
    }
   ],
   "source": [
    "tablet_s = tablet['reviews.rating'].value_counts()\n",
    "tablet_s.sort_index(inplace=True)\n",
    "\n",
    "Tablet_NPS_score = round (100*(tablet_s[5]-sum(tablet_s[1:3]))/sum(tablet_s),2)\n",
    "print (\" NPS score of Tablet is : \"  + str(Tablet_NPS_score))\n",
    "#better NPS than overall amazon\n",
    "tablet_s.plot(kind='bar',title='Amazon customer ratings',figsize=(6,6),style='Solarize_Light2')"
   ]
  },
  {
   "cell_type": "code",
   "execution_count": 35,
   "metadata": {},
   "outputs": [
    {
     "data": {
      "text/plain": [
       "1    25281\n",
       "0     1194\n",
       "Name: reviews.doRecommend, dtype: int64"
      ]
     },
     "execution_count": 35,
     "metadata": {},
     "output_type": "execute_result"
    }
   ],
   "source": [
    "tablet['reviews.doRecommend'].value_counts()"
   ]
  },
  {
   "cell_type": "code",
   "execution_count": 36,
   "metadata": {},
   "outputs": [
    {
     "data": {
      "text/plain": [
       "array([<matplotlib.axes._subplots.AxesSubplot object at 0x1a156592e8>,\n",
       "       <matplotlib.axes._subplots.AxesSubplot object at 0x1a18a31f28>],\n",
       "      dtype=object)"
      ]
     },
     "execution_count": 36,
     "metadata": {},
     "output_type": "execute_result"
    },
    {
     "data": {
      "image/png": "[encoded data removed]",
      "text/plain": [
       "<Figure size 864x432 with 2 Axes>"
      ]
     },
     "metadata": {
      "needs_background": "light"
     },
     "output_type": "display_data"
    }
   ],
   "source": [
    "tablet['reviews.rating'].hist(by=tablet['reviews.doRecommend'],figsize=(12,6))"
   ]
  },
  {
   "cell_type": "code",
   "execution_count": 38,
   "metadata": {},
   "outputs": [
    {
     "name": "stdout",
     "output_type": "stream",
     "text": [
      "Those who recommend amazon tablet generate high NPS score of 94.44\n",
      "Those who DO NOT recommend tablet produce a NPS score of -42.25\n",
      " ~ pretty much correct definition of NPS score\n"
     ]
    }
   ],
   "source": [
    "plus_tablet = tablet[tablet['reviews.doRecommend']==1]['reviews.rating'].value_counts()\n",
    "plus_tablet.sort_index(inplace=True)\n",
    "recomm_NPS = round(100*(sum(plus_tablet[4:5])-sum(plus_tablet[1:2]))/sum(plus_tablet),2)\n",
    "minus_tablet = tablet[tablet['reviews.doRecommend']==0]['reviews.rating'].value_counts()\n",
    "minus_tablet.sort_index(inplace=True)\n",
    "notrecomm_NPS = round(100*(sum(minus_tablet[4:5])-sum(minus_tablet[1:2]))/sum(minus_tablet),2)\n",
    "print(\"Those who recommend amazon tablet generate high NPS score of \" + str(recomm_NPS))\n",
    "print(\"Those who DO NOT recommend tablet produce a NPS score of \" + str(notrecomm_NPS))\n",
    "print(\" ~ pretty much correct definition of NPS score\")"
   ]
  },
  {
   "cell_type": "markdown",
   "metadata": {},
   "source": [
    "### it seems that Fire Tablet NPC is lower than average. People are less satisfied with Fire Tablet"
   ]
  },
  {
   "cell_type": "markdown",
   "metadata": {},
   "source": [
    "# [Fire Tablet] - Plot time series for reviews"
   ]
  },
  {
   "cell_type": "code",
   "execution_count": 39,
   "metadata": {},
   "outputs": [
    {
     "name": "stderr",
     "output_type": "stream",
     "text": [
      "/anaconda3/envs/nlp_venv/lib/python3.6/site-packages/ipykernel_launcher.py:1: SettingWithCopyWarning: \n",
      "A value is trying to be set on a copy of a slice from a DataFrame.\n",
      "Try using .loc[row_indexer,col_indexer] = value instead\n",
      "\n",
      "See the caveats in the documentation: http://pandas.pydata.org/pandas-docs/stable/indexing.html#indexing-view-versus-copy\n",
      "  \"\"\"Entry point for launching an IPython kernel.\n"
     ]
    },
    {
     "data": {
      "text/plain": [
       "<matplotlib.axes._subplots.AxesSubplot at 0x1a19b273c8>"
      ]
     },
     "execution_count": 39,
     "metadata": {},
     "output_type": "execute_result"
    },
    {
     "data": {
      "image/png": "[encoded data removed]",
      "text/plain": [
       "<Figure size 864x432 with 1 Axes>"
      ]
     },
     "metadata": {
      "needs_background": "light"
     },
     "output_type": "display_data"
    }
   ],
   "source": [
    "tablet['temp'] = tablet['reviews.date'].apply(lambda x : pd.to_datetime(x))\n",
    "tablet_review_dates = tablet['reviews.date'].value_counts()\n",
    "tablet_review_dates.sort_index(inplace=True)\n",
    "tablet_review_dates.plot(kind='area',figsize=(12,6))"
   ]
  },
  {
   "cell_type": "code",
   "execution_count": 40,
   "metadata": {},
   "outputs": [
    {
     "data": {
      "text/plain": [
       "1     11\n",
       "12     6\n",
       "3      2\n",
       "6      1\n",
       "dtype: int64"
      ]
     },
     "execution_count": 40,
     "metadata": {},
     "output_type": "execute_result"
    }
   ],
   "source": [
    "rating_perdate = tablet_review_dates.sort_values(ascending=False)\n",
    "peakrating = rating_perdate[:20]\n",
    "peak_month=[]\n",
    "for x in peakrating.index:\n",
    "    peak_month.append(pd.to_datetime(x).month)\n",
    "pd.Series(peak_month).value_counts()"
   ]
  },
  {
   "cell_type": "markdown",
   "metadata": {},
   "source": [
    "### Results\n",
    "January has the highest number of peaks >> Activity is high >> More Sales during Jan ( Holiday season)\n",
    "\n",
    "December has the 2nd highest number of peaks >> Activity is high >> Good Sales during Dec ( Holiday season)\n",
    "\n",
    "There is high degree of variance in reviews added over time"
   ]
  },
  {
   "cell_type": "code",
   "execution_count": 42,
   "metadata": {},
   "outputs": [
    {
     "data": {
      "text/plain": [
       "array([[<matplotlib.axes._subplots.AxesSubplot object at 0x1a1b8c4668>]],\n",
       "      dtype=object)"
      ]
     },
     "execution_count": 42,
     "metadata": {},
     "output_type": "execute_result"
    },
    {
     "data": {
      "image/png": "[encoded data removed]",
      "text/plain": [
       "<Figure size 720x432 with 1 Axes>"
      ]
     },
     "metadata": {
      "needs_background": "light"
     },
     "output_type": "display_data"
    },
    {
     "data": {
      "image/png": "[encoded data removed]",
      "text/plain": [
       "<Figure size 720x432 with 1 Axes>"
      ]
     },
     "metadata": {
      "needs_background": "light"
     },
     "output_type": "display_data"
    },
    {
     "data": {
      "image/png": "[encoded data removed]",
      "text/plain": [
       "<Figure size 720x432 with 1 Axes>"
      ]
     },
     "metadata": {
      "needs_background": "light"
     },
     "output_type": "display_data"
    }
   ],
   "source": [
    "rating_series = pd.DataFrame(tablet['reviews.date'])\n",
    "dforms=[]\n",
    "for x in rating_series['reviews.date']:\n",
    "    dforms.append((pd.to_datetime(x)).value)\n",
    "# now we have dforms which has dates transformed to numeric values\n",
    "rating2 = rating_series.assign(date_min = dforms)\n",
    "rating2.reset_index(inplace=True)\n",
    "#rating2.set_index('date_min')\n",
    "#rating2.columns=['timestamp_string','review_count','date_min']\n",
    "bins = np.linspace(min(rating2.date_min),max(rating2.date_min),num=50)\n",
    "rating2.hist(column='date_min', bins=20,figsize=(10,6),)\n",
    "rating2.hist(column='date_min', bins=30,figsize=(10,6))\n",
    "rating2.hist(column='date_min', bins=50,figsize=(10,6))"
   ]
  },
  {
   "cell_type": "code",
   "execution_count": 43,
   "metadata": {},
   "outputs": [
    {
     "data": {
      "text/plain": [
       "<matplotlib.axes._subplots.AxesSubplot at 0x1a18879b38>"
      ]
     },
     "execution_count": 43,
     "metadata": {},
     "output_type": "execute_result"
    },
    {
     "data": {
      "image/png": "[encoded data removed]",
      "text/plain": [
       "<Figure size 1080x720 with 1 Axes>"
      ]
     },
     "metadata": {
      "needs_background": "light"
     },
     "output_type": "display_data"
    }
   ],
   "source": [
    "def NPS_eval (A):\n",
    "    score =0\n",
    "    for x in A[:]:\n",
    "        if (x>4) :\n",
    "            score+=1\n",
    "        elif (x<4) :\n",
    "            score-=1\n",
    "    return 100*score/len(A)\n",
    "\n",
    "NPS_overtime = tablet[['temp','reviews.rating']]\n",
    "NPS_overtime.groupby(by='temp').agg(NPS_eval).plot(figsize=(15,10))"
   ]
  },
  {
   "cell_type": "code",
   "execution_count": 44,
   "metadata": {},
   "outputs": [
    {
     "name": "stdout",
     "output_type": "stream",
     "text": [
      "AxesSubplot(0.125,0.125;0.775x0.755)\n"
     ]
    },
    {
     "name": "stderr",
     "output_type": "stream",
     "text": [
      "/anaconda3/envs/nlp_venv/lib/python3.6/site-packages/ipykernel_launcher.py:1: SettingWithCopyWarning: \n",
      "A value is trying to be set on a copy of a slice from a DataFrame.\n",
      "Try using .loc[row_indexer,col_indexer] = value instead\n",
      "\n",
      "See the caveats in the documentation: http://pandas.pydata.org/pandas-docs/stable/indexing.html#indexing-view-versus-copy\n",
      "  \"\"\"Entry point for launching an IPython kernel.\n"
     ]
    },
    {
     "data": {
      "text/html": [
       "<div>\n",
       "<style scoped>\n",
       "    .dataframe tbody tr th:only-of-type {\n",
       "        vertical-align: middle;\n",
       "    }\n",
       "\n",
       "    .dataframe tbody tr th {\n",
       "        vertical-align: top;\n",
       "    }\n",
       "\n",
       "    .dataframe thead th {\n",
       "        text-align: right;\n",
       "    }\n",
       "</style>\n",
       "<table border=\"1\" class=\"dataframe\">\n",
       "  <thead>\n",
       "    <tr style=\"text-align: right;\">\n",
       "      <th></th>\n",
       "      <th>reviews.rating</th>\n",
       "    </tr>\n",
       "    <tr>\n",
       "      <th>timeline</th>\n",
       "      <th></th>\n",
       "    </tr>\n",
       "  </thead>\n",
       "  <tbody>\n",
       "    <tr>\n",
       "      <th>31</th>\n",
       "      <td>25.000000</td>\n",
       "    </tr>\n",
       "    <tr>\n",
       "      <th>9</th>\n",
       "      <td>33.333333</td>\n",
       "    </tr>\n",
       "    <tr>\n",
       "      <th>32</th>\n",
       "      <td>33.333333</td>\n",
       "    </tr>\n",
       "    <tr>\n",
       "      <th>33</th>\n",
       "      <td>35.714286</td>\n",
       "    </tr>\n",
       "    <tr>\n",
       "      <th>10</th>\n",
       "      <td>37.500000</td>\n",
       "    </tr>\n",
       "    <tr>\n",
       "      <th>29</th>\n",
       "      <td>39.130435</td>\n",
       "    </tr>\n",
       "    <tr>\n",
       "      <th>11</th>\n",
       "      <td>41.509434</td>\n",
       "    </tr>\n",
       "    <tr>\n",
       "      <th>20</th>\n",
       "      <td>43.636364</td>\n",
       "    </tr>\n",
       "    <tr>\n",
       "      <th>14</th>\n",
       "      <td>44.881890</td>\n",
       "    </tr>\n",
       "    <tr>\n",
       "      <th>18</th>\n",
       "      <td>45.132743</td>\n",
       "    </tr>\n",
       "    <tr>\n",
       "      <th>21</th>\n",
       "      <td>45.843829</td>\n",
       "    </tr>\n",
       "    <tr>\n",
       "      <th>12</th>\n",
       "      <td>46.175840</td>\n",
       "    </tr>\n",
       "    <tr>\n",
       "      <th>26</th>\n",
       "      <td>48.437500</td>\n",
       "    </tr>\n",
       "    <tr>\n",
       "      <th>25</th>\n",
       "      <td>49.442120</td>\n",
       "    </tr>\n",
       "    <tr>\n",
       "      <th>17</th>\n",
       "      <td>49.477352</td>\n",
       "    </tr>\n",
       "    <tr>\n",
       "      <th>15</th>\n",
       "      <td>49.629630</td>\n",
       "    </tr>\n",
       "    <tr>\n",
       "      <th>19</th>\n",
       "      <td>50.000000</td>\n",
       "    </tr>\n",
       "    <tr>\n",
       "      <th>16</th>\n",
       "      <td>51.385928</td>\n",
       "    </tr>\n",
       "    <tr>\n",
       "      <th>27</th>\n",
       "      <td>52.256532</td>\n",
       "    </tr>\n",
       "    <tr>\n",
       "      <th>13</th>\n",
       "      <td>52.459954</td>\n",
       "    </tr>\n",
       "    <tr>\n",
       "      <th>22</th>\n",
       "      <td>52.613240</td>\n",
       "    </tr>\n",
       "    <tr>\n",
       "      <th>28</th>\n",
       "      <td>53.614458</td>\n",
       "    </tr>\n",
       "    <tr>\n",
       "      <th>24</th>\n",
       "      <td>54.454621</td>\n",
       "    </tr>\n",
       "    <tr>\n",
       "      <th>23</th>\n",
       "      <td>62.751678</td>\n",
       "    </tr>\n",
       "    <tr>\n",
       "      <th>30</th>\n",
       "      <td>70.370370</td>\n",
       "    </tr>\n",
       "    <tr>\n",
       "      <th>34</th>\n",
       "      <td>100.000000</td>\n",
       "    </tr>\n",
       "  </tbody>\n",
       "</table>\n",
       "</div>"
      ],
      "text/plain": [
       "          reviews.rating\n",
       "timeline                \n",
       "31             25.000000\n",
       "9              33.333333\n",
       "32             33.333333\n",
       "33             35.714286\n",
       "10             37.500000\n",
       "29             39.130435\n",
       "11             41.509434\n",
       "20             43.636364\n",
       "14             44.881890\n",
       "18             45.132743\n",
       "21             45.843829\n",
       "12             46.175840\n",
       "26             48.437500\n",
       "25             49.442120\n",
       "17             49.477352\n",
       "15             49.629630\n",
       "19             50.000000\n",
       "16             51.385928\n",
       "27             52.256532\n",
       "13             52.459954\n",
       "22             52.613240\n",
       "28             53.614458\n",
       "24             54.454621\n",
       "23             62.751678\n",
       "30             70.370370\n",
       "34            100.000000"
      ]
     },
     "execution_count": 44,
     "metadata": {},
     "output_type": "execute_result"
    },
    {
     "data": {
      "image/png": "[encoded data removed]",
      "text/plain": [
       "<Figure size 432x288 with 1 Axes>"
      ]
     },
     "metadata": {
      "needs_background": "light"
     },
     "output_type": "display_data"
    }
   ],
   "source": [
    "NPS_overtime['timeline']= NPS_overtime['temp'].apply(lambda x : (x.month+(12*(x.year-2015))))\n",
    "NPS_by_month= NPS_overtime.groupby(by='timeline').agg(NPS_eval)\n",
    "print(NPS_by_month.plot())\n",
    "NPS_by_month.sort_values(by='reviews.rating')"
   ]
  },
  {
   "cell_type": "markdown",
   "metadata": {},
   "source": [
    "# [Fire Tablet] Predict Recommendations based on reviews content"
   ]
  },
  {
   "cell_type": "code",
   "execution_count": 45,
   "metadata": {
    "scrolled": true
   },
   "outputs": [
    {
     "data": {
      "text/html": [
       "<div>\n",
       "<style scoped>\n",
       "    .dataframe tbody tr th:only-of-type {\n",
       "        vertical-align: middle;\n",
       "    }\n",
       "\n",
       "    .dataframe tbody tr th {\n",
       "        vertical-align: top;\n",
       "    }\n",
       "\n",
       "    .dataframe thead th {\n",
       "        text-align: right;\n",
       "    }\n",
       "</style>\n",
       "<table border=\"1\" class=\"dataframe\">\n",
       "  <thead>\n",
       "    <tr style=\"text-align: right;\">\n",
       "      <th></th>\n",
       "      <th>id</th>\n",
       "      <th>name</th>\n",
       "      <th>categories</th>\n",
       "      <th>manufacturer</th>\n",
       "      <th>reviews.date</th>\n",
       "      <th>reviews.dateSeen</th>\n",
       "      <th>reviews.doRecommend</th>\n",
       "      <th>reviews.numHelpful</th>\n",
       "      <th>reviews.rating</th>\n",
       "      <th>reviews.text</th>\n",
       "      <th>reviews.title</th>\n",
       "      <th>reviews.username</th>\n",
       "      <th>bulk</th>\n",
       "      <th>temp</th>\n",
       "    </tr>\n",
       "  </thead>\n",
       "  <tbody>\n",
       "    <tr>\n",
       "      <th>3480</th>\n",
       "      <td>AVqVGZNvQMlgsOJE6eUY</td>\n",
       "      <td>Fire Tablet, 7 Display, Wi-Fi, 8 GB - Includes...</td>\n",
       "      <td>Electronics,iPad &amp; Tablets,All Tablets,Compute...</td>\n",
       "      <td>Amazon</td>\n",
       "      <td>2017-10-07T00:00:00.000Z</td>\n",
       "      <td>2017-10-10T00:00:00Z</td>\n",
       "      <td>1</td>\n",
       "      <td>0.0</td>\n",
       "      <td>5.0</td>\n",
       "      <td>The sales people are really nice and knowledge...</td>\n",
       "      <td>Great product</td>\n",
       "      <td>richard</td>\n",
       "      <td>0</td>\n",
       "      <td>2017-10-07</td>\n",
       "    </tr>\n",
       "    <tr>\n",
       "      <th>3481</th>\n",
       "      <td>AVqVGZNvQMlgsOJE6eUY</td>\n",
       "      <td>Fire Tablet, 7 Display, Wi-Fi, 8 GB - Includes...</td>\n",
       "      <td>Electronics,iPad &amp; Tablets,All Tablets,Compute...</td>\n",
       "      <td>Amazon</td>\n",
       "      <td>2017-10-07T00:00:00.000Z</td>\n",
       "      <td>2017-10-10T00:00:00Z</td>\n",
       "      <td>1</td>\n",
       "      <td>0.0</td>\n",
       "      <td>5.0</td>\n",
       "      <td>Great product and service and the sales man r ...</td>\n",
       "      <td>Great product</td>\n",
       "      <td>richard</td>\n",
       "      <td>0</td>\n",
       "      <td>2017-10-07</td>\n",
       "    </tr>\n",
       "    <tr>\n",
       "      <th>3482</th>\n",
       "      <td>AVqVGZNvQMlgsOJE6eUY</td>\n",
       "      <td>Fire Tablet, 7 Display, Wi-Fi, 8 GB - Includes...</td>\n",
       "      <td>Electronics,iPad &amp; Tablets,All Tablets,Compute...</td>\n",
       "      <td>Amazon</td>\n",
       "      <td>2017-10-07T00:00:00.000Z</td>\n",
       "      <td>2017-10-10T00:00:00Z</td>\n",
       "      <td>1</td>\n",
       "      <td>0.0</td>\n",
       "      <td>5.0</td>\n",
       "      <td>Great product and service will refer to a frie...</td>\n",
       "      <td>Great product and service</td>\n",
       "      <td>richard</td>\n",
       "      <td>0</td>\n",
       "      <td>2017-10-07</td>\n",
       "    </tr>\n",
       "    <tr>\n",
       "      <th>3483</th>\n",
       "      <td>AVqVGZNvQMlgsOJE6eUY</td>\n",
       "      <td>Fire Tablet, 7 Display, Wi-Fi, 8 GB - Includes...</td>\n",
       "      <td>Electronics,iPad &amp; Tablets,All Tablets,Compute...</td>\n",
       "      <td>Amazon</td>\n",
       "      <td>2017-10-06T00:00:00.000Z</td>\n",
       "      <td>2017-10-10T00:00:00Z</td>\n",
       "      <td>1</td>\n",
       "      <td>0.0</td>\n",
       "      <td>5.0</td>\n",
       "      <td>very good product and service will refer a fri...</td>\n",
       "      <td>very good product and service.</td>\n",
       "      <td>Richard</td>\n",
       "      <td>1</td>\n",
       "      <td>2017-10-06</td>\n",
       "    </tr>\n",
       "    <tr>\n",
       "      <th>3484</th>\n",
       "      <td>AVqVGZNvQMlgsOJE6eUY</td>\n",
       "      <td>Fire Tablet, 7 Display, Wi-Fi, 8 GB - Includes...</td>\n",
       "      <td>Electronics,iPad &amp; Tablets,All Tablets,Compute...</td>\n",
       "      <td>Amazon</td>\n",
       "      <td>2017-09-30T00:00:00.000Z</td>\n",
       "      <td>2017-10-10T00:00:00Z</td>\n",
       "      <td>1</td>\n",
       "      <td>0.0</td>\n",
       "      <td>5.0</td>\n",
       "      <td>Great selections. Hard to find assistance at t...</td>\n",
       "      <td>Good selection.</td>\n",
       "      <td>Scheu</td>\n",
       "      <td>0</td>\n",
       "      <td>2017-09-30</td>\n",
       "    </tr>\n",
       "  </tbody>\n",
       "</table>\n",
       "</div>"
      ],
      "text/plain": [
       "                        id                                               name  \\\n",
       "3480  AVqVGZNvQMlgsOJE6eUY  Fire Tablet, 7 Display, Wi-Fi, 8 GB - Includes...   \n",
       "3481  AVqVGZNvQMlgsOJE6eUY  Fire Tablet, 7 Display, Wi-Fi, 8 GB - Includes...   \n",
       "3482  AVqVGZNvQMlgsOJE6eUY  Fire Tablet, 7 Display, Wi-Fi, 8 GB - Includes...   \n",
       "3483  AVqVGZNvQMlgsOJE6eUY  Fire Tablet, 7 Display, Wi-Fi, 8 GB - Includes...   \n",
       "3484  AVqVGZNvQMlgsOJE6eUY  Fire Tablet, 7 Display, Wi-Fi, 8 GB - Includes...   \n",
       "\n",
       "                                             categories manufacturer  \\\n",
       "3480  Electronics,iPad & Tablets,All Tablets,Compute...       Amazon   \n",
       "3481  Electronics,iPad & Tablets,All Tablets,Compute...       Amazon   \n",
       "3482  Electronics,iPad & Tablets,All Tablets,Compute...       Amazon   \n",
       "3483  Electronics,iPad & Tablets,All Tablets,Compute...       Amazon   \n",
       "3484  Electronics,iPad & Tablets,All Tablets,Compute...       Amazon   \n",
       "\n",
       "                  reviews.date      reviews.dateSeen  reviews.doRecommend  \\\n",
       "3480  2017-10-07T00:00:00.000Z  2017-10-10T00:00:00Z                    1   \n",
       "3481  2017-10-07T00:00:00.000Z  2017-10-10T00:00:00Z                    1   \n",
       "3482  2017-10-07T00:00:00.000Z  2017-10-10T00:00:00Z                    1   \n",
       "3483  2017-10-06T00:00:00.000Z  2017-10-10T00:00:00Z                    1   \n",
       "3484  2017-09-30T00:00:00.000Z  2017-10-10T00:00:00Z                    1   \n",
       "\n",
       "      reviews.numHelpful  reviews.rating  \\\n",
       "3480                 0.0             5.0   \n",
       "3481                 0.0             5.0   \n",
       "3482                 0.0             5.0   \n",
       "3483                 0.0             5.0   \n",
       "3484                 0.0             5.0   \n",
       "\n",
       "                                           reviews.text  \\\n",
       "3480  The sales people are really nice and knowledge...   \n",
       "3481  Great product and service and the sales man r ...   \n",
       "3482  Great product and service will refer to a frie...   \n",
       "3483  very good product and service will refer a fri...   \n",
       "3484  Great selections. Hard to find assistance at t...   \n",
       "\n",
       "                       reviews.title reviews.username  bulk       temp  \n",
       "3480                   Great product          richard     0 2017-10-07  \n",
       "3481                   Great product          richard     0 2017-10-07  \n",
       "3482       Great product and service          richard     0 2017-10-07  \n",
       "3483  very good product and service.          Richard     1 2017-10-06  \n",
       "3484                 Good selection.            Scheu     0 2017-09-30  "
      ]
     },
     "execution_count": 45,
     "metadata": {},
     "output_type": "execute_result"
    }
   ],
   "source": [
    "tablet.head()"
   ]
  },
  {
   "cell_type": "code",
   "execution_count": 47,
   "metadata": {},
   "outputs": [
    {
     "name": "stderr",
     "output_type": "stream",
     "text": [
      "/anaconda3/envs/nlp_venv/lib/python3.6/site-packages/pandas/core/frame.py:3781: SettingWithCopyWarning: \n",
      "A value is trying to be set on a copy of a slice from a DataFrame\n",
      "\n",
      "See the caveats in the documentation: http://pandas.pydata.org/pandas-docs/stable/indexing.html#indexing-view-versus-copy\n",
      "  return super(DataFrame, self).rename(**kwargs)\n"
     ]
    }
   ],
   "source": [
    "tablet.rename(columns={'reviews.rating':'rating',\n",
    "                       'reviews.date':'date',\n",
    "                       'reviews.dateSeen':'dateSeen',\n",
    "                       'reviews.doRecommend':'doRecommend',\n",
    "                       'reviews.numHelpful':'numHelpful',\n",
    "                       'reviews.text':'text',\n",
    "                       'reviews.title':'title',\n",
    "                       'reviews.username':'username'\n",
    "                      }, \n",
    "                 inplace=True)"
   ]
  },
  {
   "cell_type": "code",
   "execution_count": 50,
   "metadata": {},
   "outputs": [],
   "source": [
    "comments = pd.concat([tablet['text']+\". \"+ tablet['title'],tablet['rating'],tablet['doRecommend']],axis=1)\n",
    "comments.columns=['text','rating','recommend']"
   ]
  },
  {
   "cell_type": "code",
   "execution_count": 54,
   "metadata": {},
   "outputs": [],
   "source": [
    "stopwords = nltk.corpus.stopwords.words('english')\n",
    "ps = PorterStemmer()\n",
    "wn = nltk.WordNetLemmatizer()\n",
    "\n",
    "\n",
    "def clean_stem (sent): \n",
    "    temp1 =\"\".join(x for x in sent if x not in punctuation)\n",
    "    temp2 = re.split('\\W+',temp1.lower())\n",
    "    temp3 = [ps.stem(x) for x in temp2 if x not in stopwords]\n",
    "    return temp3\n",
    "\n",
    "def clean_lemma (sent): \n",
    "    temp1 =\"\".join(x for x in sent if x not in punctuation)\n",
    "    temp2 = re.split('\\W+',temp1.lower())\n",
    "    temp3 = [wn.lemmatize(x) for x in temp2 if x not in stopwords]\n",
    "    return temp3"
   ]
  },
  {
   "cell_type": "code",
   "execution_count": 55,
   "metadata": {},
   "outputs": [
    {
     "name": "stdout",
     "output_type": "stream",
     "text": [
      "Stemmed - 6511\n",
      "Lemmatized - 7923\n"
     ]
    }
   ],
   "source": [
    "from sklearn.feature_extraction.text import TfidfVectorizer\n",
    "\n",
    "vectstem = TfidfVectorizer(analyzer=clean_stem)\n",
    "vectlemm = TfidfVectorizer(analyzer=clean_lemma)\n",
    "\n",
    "textfeatures=vectstem.fit_transform(comments['text'])\n",
    "print(\"Stemmed - \" + str(len(vectstem.get_feature_names())))\n",
    "\n",
    "vectlemm.fit_transform(comments['text'])\n",
    "print(\"Lemmatized - \" + str(len(vectlemm.get_feature_names())))"
   ]
  },
  {
   "cell_type": "code",
   "execution_count": 59,
   "metadata": {},
   "outputs": [
    {
     "data": {
      "text/html": [
       "<div>\n",
       "<style scoped>\n",
       "    .dataframe tbody tr th:only-of-type {\n",
       "        vertical-align: middle;\n",
       "    }\n",
       "\n",
       "    .dataframe tbody tr th {\n",
       "        vertical-align: top;\n",
       "    }\n",
       "\n",
       "    .dataframe thead th {\n",
       "        text-align: right;\n",
       "    }\n",
       "</style>\n",
       "<table border=\"1\" class=\"dataframe\">\n",
       "  <thead>\n",
       "    <tr style=\"text-align: right;\">\n",
       "      <th></th>\n",
       "      <th>sale</th>\n",
       "      <th>peopl</th>\n",
       "      <th>realli</th>\n",
       "      <th>nice</th>\n",
       "      <th>knowledg</th>\n",
       "      <th>come</th>\n",
       "      <th>back</th>\n",
       "      <th>great</th>\n",
       "      <th>product</th>\n",
       "      <th>servic</th>\n",
       "      <th>...</th>\n",
       "      <th>paw</th>\n",
       "      <th>on</th>\n",
       "      <th>rad</th>\n",
       "      <th>strang</th>\n",
       "      <th>naviag</th>\n",
       "      <th>fore</th>\n",
       "      <th>windowsbas</th>\n",
       "      <th>lockeddown</th>\n",
       "      <th>outclass</th>\n",
       "      <th>facial</th>\n",
       "    </tr>\n",
       "  </thead>\n",
       "  <tbody>\n",
       "    <tr>\n",
       "      <th>0</th>\n",
       "      <td>0.0</td>\n",
       "      <td>0.0</td>\n",
       "      <td>0.0</td>\n",
       "      <td>0.0</td>\n",
       "      <td>0.0</td>\n",
       "      <td>0.0</td>\n",
       "      <td>0.000000</td>\n",
       "      <td>0.0</td>\n",
       "      <td>0.0</td>\n",
       "      <td>0.0</td>\n",
       "      <td>...</td>\n",
       "      <td>0.0</td>\n",
       "      <td>0.0</td>\n",
       "      <td>0.0</td>\n",
       "      <td>0.0</td>\n",
       "      <td>0.0</td>\n",
       "      <td>0.0</td>\n",
       "      <td>0.0</td>\n",
       "      <td>0.0</td>\n",
       "      <td>0.0</td>\n",
       "      <td>0.0</td>\n",
       "    </tr>\n",
       "    <tr>\n",
       "      <th>1</th>\n",
       "      <td>0.0</td>\n",
       "      <td>0.0</td>\n",
       "      <td>0.0</td>\n",
       "      <td>0.0</td>\n",
       "      <td>0.0</td>\n",
       "      <td>0.0</td>\n",
       "      <td>0.000000</td>\n",
       "      <td>0.0</td>\n",
       "      <td>0.0</td>\n",
       "      <td>0.0</td>\n",
       "      <td>...</td>\n",
       "      <td>0.0</td>\n",
       "      <td>0.0</td>\n",
       "      <td>0.0</td>\n",
       "      <td>0.0</td>\n",
       "      <td>0.0</td>\n",
       "      <td>0.0</td>\n",
       "      <td>0.0</td>\n",
       "      <td>0.0</td>\n",
       "      <td>0.0</td>\n",
       "      <td>0.0</td>\n",
       "    </tr>\n",
       "    <tr>\n",
       "      <th>2</th>\n",
       "      <td>0.0</td>\n",
       "      <td>0.0</td>\n",
       "      <td>0.0</td>\n",
       "      <td>0.0</td>\n",
       "      <td>0.0</td>\n",
       "      <td>0.0</td>\n",
       "      <td>0.000000</td>\n",
       "      <td>0.0</td>\n",
       "      <td>0.0</td>\n",
       "      <td>0.0</td>\n",
       "      <td>...</td>\n",
       "      <td>0.0</td>\n",
       "      <td>0.0</td>\n",
       "      <td>0.0</td>\n",
       "      <td>0.0</td>\n",
       "      <td>0.0</td>\n",
       "      <td>0.0</td>\n",
       "      <td>0.0</td>\n",
       "      <td>0.0</td>\n",
       "      <td>0.0</td>\n",
       "      <td>0.0</td>\n",
       "    </tr>\n",
       "    <tr>\n",
       "      <th>3</th>\n",
       "      <td>0.0</td>\n",
       "      <td>0.0</td>\n",
       "      <td>0.0</td>\n",
       "      <td>0.0</td>\n",
       "      <td>0.0</td>\n",
       "      <td>0.0</td>\n",
       "      <td>0.000000</td>\n",
       "      <td>0.0</td>\n",
       "      <td>0.0</td>\n",
       "      <td>0.0</td>\n",
       "      <td>...</td>\n",
       "      <td>0.0</td>\n",
       "      <td>0.0</td>\n",
       "      <td>0.0</td>\n",
       "      <td>0.0</td>\n",
       "      <td>0.0</td>\n",
       "      <td>0.0</td>\n",
       "      <td>0.0</td>\n",
       "      <td>0.0</td>\n",
       "      <td>0.0</td>\n",
       "      <td>0.0</td>\n",
       "    </tr>\n",
       "    <tr>\n",
       "      <th>4</th>\n",
       "      <td>0.0</td>\n",
       "      <td>0.0</td>\n",
       "      <td>0.0</td>\n",
       "      <td>0.0</td>\n",
       "      <td>0.0</td>\n",
       "      <td>0.0</td>\n",
       "      <td>0.000000</td>\n",
       "      <td>0.0</td>\n",
       "      <td>0.0</td>\n",
       "      <td>0.0</td>\n",
       "      <td>...</td>\n",
       "      <td>0.0</td>\n",
       "      <td>0.0</td>\n",
       "      <td>0.0</td>\n",
       "      <td>0.0</td>\n",
       "      <td>0.0</td>\n",
       "      <td>0.0</td>\n",
       "      <td>0.0</td>\n",
       "      <td>0.0</td>\n",
       "      <td>0.0</td>\n",
       "      <td>0.0</td>\n",
       "    </tr>\n",
       "    <tr>\n",
       "      <th>5</th>\n",
       "      <td>0.0</td>\n",
       "      <td>0.0</td>\n",
       "      <td>0.0</td>\n",
       "      <td>0.0</td>\n",
       "      <td>0.0</td>\n",
       "      <td>0.0</td>\n",
       "      <td>0.000000</td>\n",
       "      <td>0.0</td>\n",
       "      <td>0.0</td>\n",
       "      <td>0.0</td>\n",
       "      <td>...</td>\n",
       "      <td>0.0</td>\n",
       "      <td>0.0</td>\n",
       "      <td>0.0</td>\n",
       "      <td>0.0</td>\n",
       "      <td>0.0</td>\n",
       "      <td>0.0</td>\n",
       "      <td>0.0</td>\n",
       "      <td>0.0</td>\n",
       "      <td>0.0</td>\n",
       "      <td>0.0</td>\n",
       "    </tr>\n",
       "    <tr>\n",
       "      <th>6</th>\n",
       "      <td>0.0</td>\n",
       "      <td>0.0</td>\n",
       "      <td>0.0</td>\n",
       "      <td>0.0</td>\n",
       "      <td>0.0</td>\n",
       "      <td>0.0</td>\n",
       "      <td>0.000000</td>\n",
       "      <td>0.0</td>\n",
       "      <td>0.0</td>\n",
       "      <td>0.0</td>\n",
       "      <td>...</td>\n",
       "      <td>0.0</td>\n",
       "      <td>0.0</td>\n",
       "      <td>0.0</td>\n",
       "      <td>0.0</td>\n",
       "      <td>0.0</td>\n",
       "      <td>0.0</td>\n",
       "      <td>0.0</td>\n",
       "      <td>0.0</td>\n",
       "      <td>0.0</td>\n",
       "      <td>0.0</td>\n",
       "    </tr>\n",
       "    <tr>\n",
       "      <th>7</th>\n",
       "      <td>0.0</td>\n",
       "      <td>0.0</td>\n",
       "      <td>0.0</td>\n",
       "      <td>0.0</td>\n",
       "      <td>0.0</td>\n",
       "      <td>0.0</td>\n",
       "      <td>0.000000</td>\n",
       "      <td>0.0</td>\n",
       "      <td>0.0</td>\n",
       "      <td>0.0</td>\n",
       "      <td>...</td>\n",
       "      <td>0.0</td>\n",
       "      <td>0.0</td>\n",
       "      <td>0.0</td>\n",
       "      <td>0.0</td>\n",
       "      <td>0.0</td>\n",
       "      <td>0.0</td>\n",
       "      <td>0.0</td>\n",
       "      <td>0.0</td>\n",
       "      <td>0.0</td>\n",
       "      <td>0.0</td>\n",
       "    </tr>\n",
       "    <tr>\n",
       "      <th>8</th>\n",
       "      <td>0.0</td>\n",
       "      <td>0.0</td>\n",
       "      <td>0.0</td>\n",
       "      <td>0.0</td>\n",
       "      <td>0.0</td>\n",
       "      <td>0.0</td>\n",
       "      <td>0.000000</td>\n",
       "      <td>0.0</td>\n",
       "      <td>0.0</td>\n",
       "      <td>0.0</td>\n",
       "      <td>...</td>\n",
       "      <td>0.0</td>\n",
       "      <td>0.0</td>\n",
       "      <td>0.0</td>\n",
       "      <td>0.0</td>\n",
       "      <td>0.0</td>\n",
       "      <td>0.0</td>\n",
       "      <td>0.0</td>\n",
       "      <td>0.0</td>\n",
       "      <td>0.0</td>\n",
       "      <td>0.0</td>\n",
       "    </tr>\n",
       "    <tr>\n",
       "      <th>9</th>\n",
       "      <td>0.0</td>\n",
       "      <td>0.0</td>\n",
       "      <td>0.0</td>\n",
       "      <td>0.0</td>\n",
       "      <td>0.0</td>\n",
       "      <td>0.0</td>\n",
       "      <td>0.000000</td>\n",
       "      <td>0.0</td>\n",
       "      <td>0.0</td>\n",
       "      <td>0.0</td>\n",
       "      <td>...</td>\n",
       "      <td>0.0</td>\n",
       "      <td>0.0</td>\n",
       "      <td>0.0</td>\n",
       "      <td>0.0</td>\n",
       "      <td>0.0</td>\n",
       "      <td>0.0</td>\n",
       "      <td>0.0</td>\n",
       "      <td>0.0</td>\n",
       "      <td>0.0</td>\n",
       "      <td>0.0</td>\n",
       "    </tr>\n",
       "    <tr>\n",
       "      <th>10</th>\n",
       "      <td>0.0</td>\n",
       "      <td>0.0</td>\n",
       "      <td>0.0</td>\n",
       "      <td>0.0</td>\n",
       "      <td>0.0</td>\n",
       "      <td>0.0</td>\n",
       "      <td>0.000000</td>\n",
       "      <td>0.0</td>\n",
       "      <td>0.0</td>\n",
       "      <td>0.0</td>\n",
       "      <td>...</td>\n",
       "      <td>0.0</td>\n",
       "      <td>0.0</td>\n",
       "      <td>0.0</td>\n",
       "      <td>0.0</td>\n",
       "      <td>0.0</td>\n",
       "      <td>0.0</td>\n",
       "      <td>0.0</td>\n",
       "      <td>0.0</td>\n",
       "      <td>0.0</td>\n",
       "      <td>0.0</td>\n",
       "    </tr>\n",
       "    <tr>\n",
       "      <th>11</th>\n",
       "      <td>0.0</td>\n",
       "      <td>0.0</td>\n",
       "      <td>0.0</td>\n",
       "      <td>0.0</td>\n",
       "      <td>0.0</td>\n",
       "      <td>0.0</td>\n",
       "      <td>0.000000</td>\n",
       "      <td>0.0</td>\n",
       "      <td>0.0</td>\n",
       "      <td>0.0</td>\n",
       "      <td>...</td>\n",
       "      <td>0.0</td>\n",
       "      <td>0.0</td>\n",
       "      <td>0.0</td>\n",
       "      <td>0.0</td>\n",
       "      <td>0.0</td>\n",
       "      <td>0.0</td>\n",
       "      <td>0.0</td>\n",
       "      <td>0.0</td>\n",
       "      <td>0.0</td>\n",
       "      <td>0.0</td>\n",
       "    </tr>\n",
       "    <tr>\n",
       "      <th>12</th>\n",
       "      <td>0.0</td>\n",
       "      <td>0.0</td>\n",
       "      <td>0.0</td>\n",
       "      <td>0.0</td>\n",
       "      <td>0.0</td>\n",
       "      <td>0.0</td>\n",
       "      <td>0.427813</td>\n",
       "      <td>0.0</td>\n",
       "      <td>0.0</td>\n",
       "      <td>0.0</td>\n",
       "      <td>...</td>\n",
       "      <td>0.0</td>\n",
       "      <td>0.0</td>\n",
       "      <td>0.0</td>\n",
       "      <td>0.0</td>\n",
       "      <td>0.0</td>\n",
       "      <td>0.0</td>\n",
       "      <td>0.0</td>\n",
       "      <td>0.0</td>\n",
       "      <td>0.0</td>\n",
       "      <td>0.0</td>\n",
       "    </tr>\n",
       "    <tr>\n",
       "      <th>13</th>\n",
       "      <td>0.0</td>\n",
       "      <td>0.0</td>\n",
       "      <td>0.0</td>\n",
       "      <td>0.0</td>\n",
       "      <td>0.0</td>\n",
       "      <td>0.0</td>\n",
       "      <td>0.000000</td>\n",
       "      <td>0.0</td>\n",
       "      <td>0.0</td>\n",
       "      <td>0.0</td>\n",
       "      <td>...</td>\n",
       "      <td>0.0</td>\n",
       "      <td>0.0</td>\n",
       "      <td>0.0</td>\n",
       "      <td>0.0</td>\n",
       "      <td>0.0</td>\n",
       "      <td>0.0</td>\n",
       "      <td>0.0</td>\n",
       "      <td>0.0</td>\n",
       "      <td>0.0</td>\n",
       "      <td>0.0</td>\n",
       "    </tr>\n",
       "    <tr>\n",
       "      <th>14</th>\n",
       "      <td>0.0</td>\n",
       "      <td>0.0</td>\n",
       "      <td>0.0</td>\n",
       "      <td>0.0</td>\n",
       "      <td>0.0</td>\n",
       "      <td>0.0</td>\n",
       "      <td>0.000000</td>\n",
       "      <td>0.0</td>\n",
       "      <td>0.0</td>\n",
       "      <td>0.0</td>\n",
       "      <td>...</td>\n",
       "      <td>0.0</td>\n",
       "      <td>0.0</td>\n",
       "      <td>0.0</td>\n",
       "      <td>0.0</td>\n",
       "      <td>0.0</td>\n",
       "      <td>0.0</td>\n",
       "      <td>0.0</td>\n",
       "      <td>0.0</td>\n",
       "      <td>0.0</td>\n",
       "      <td>0.0</td>\n",
       "    </tr>\n",
       "  </tbody>\n",
       "</table>\n",
       "<p>15 rows × 6511 columns</p>\n",
       "</div>"
      ],
      "text/plain": [
       "    sale  peopl  realli  nice  knowledg  come      back  great  product  \\\n",
       "0    0.0    0.0     0.0   0.0       0.0   0.0  0.000000    0.0      0.0   \n",
       "1    0.0    0.0     0.0   0.0       0.0   0.0  0.000000    0.0      0.0   \n",
       "2    0.0    0.0     0.0   0.0       0.0   0.0  0.000000    0.0      0.0   \n",
       "3    0.0    0.0     0.0   0.0       0.0   0.0  0.000000    0.0      0.0   \n",
       "4    0.0    0.0     0.0   0.0       0.0   0.0  0.000000    0.0      0.0   \n",
       "5    0.0    0.0     0.0   0.0       0.0   0.0  0.000000    0.0      0.0   \n",
       "6    0.0    0.0     0.0   0.0       0.0   0.0  0.000000    0.0      0.0   \n",
       "7    0.0    0.0     0.0   0.0       0.0   0.0  0.000000    0.0      0.0   \n",
       "8    0.0    0.0     0.0   0.0       0.0   0.0  0.000000    0.0      0.0   \n",
       "9    0.0    0.0     0.0   0.0       0.0   0.0  0.000000    0.0      0.0   \n",
       "10   0.0    0.0     0.0   0.0       0.0   0.0  0.000000    0.0      0.0   \n",
       "11   0.0    0.0     0.0   0.0       0.0   0.0  0.000000    0.0      0.0   \n",
       "12   0.0    0.0     0.0   0.0       0.0   0.0  0.427813    0.0      0.0   \n",
       "13   0.0    0.0     0.0   0.0       0.0   0.0  0.000000    0.0      0.0   \n",
       "14   0.0    0.0     0.0   0.0       0.0   0.0  0.000000    0.0      0.0   \n",
       "\n",
       "    servic   ...    paw   on  rad  strang  naviag  fore  windowsbas  \\\n",
       "0      0.0   ...    0.0  0.0  0.0     0.0     0.0   0.0         0.0   \n",
       "1      0.0   ...    0.0  0.0  0.0     0.0     0.0   0.0         0.0   \n",
       "2      0.0   ...    0.0  0.0  0.0     0.0     0.0   0.0         0.0   \n",
       "3      0.0   ...    0.0  0.0  0.0     0.0     0.0   0.0         0.0   \n",
       "4      0.0   ...    0.0  0.0  0.0     0.0     0.0   0.0         0.0   \n",
       "5      0.0   ...    0.0  0.0  0.0     0.0     0.0   0.0         0.0   \n",
       "6      0.0   ...    0.0  0.0  0.0     0.0     0.0   0.0         0.0   \n",
       "7      0.0   ...    0.0  0.0  0.0     0.0     0.0   0.0         0.0   \n",
       "8      0.0   ...    0.0  0.0  0.0     0.0     0.0   0.0         0.0   \n",
       "9      0.0   ...    0.0  0.0  0.0     0.0     0.0   0.0         0.0   \n",
       "10     0.0   ...    0.0  0.0  0.0     0.0     0.0   0.0         0.0   \n",
       "11     0.0   ...    0.0  0.0  0.0     0.0     0.0   0.0         0.0   \n",
       "12     0.0   ...    0.0  0.0  0.0     0.0     0.0   0.0         0.0   \n",
       "13     0.0   ...    0.0  0.0  0.0     0.0     0.0   0.0         0.0   \n",
       "14     0.0   ...    0.0  0.0  0.0     0.0     0.0   0.0         0.0   \n",
       "\n",
       "    lockeddown  outclass  facial  \n",
       "0          0.0       0.0     0.0  \n",
       "1          0.0       0.0     0.0  \n",
       "2          0.0       0.0     0.0  \n",
       "3          0.0       0.0     0.0  \n",
       "4          0.0       0.0     0.0  \n",
       "5          0.0       0.0     0.0  \n",
       "6          0.0       0.0     0.0  \n",
       "7          0.0       0.0     0.0  \n",
       "8          0.0       0.0     0.0  \n",
       "9          0.0       0.0     0.0  \n",
       "10         0.0       0.0     0.0  \n",
       "11         0.0       0.0     0.0  \n",
       "12         0.0       0.0     0.0  \n",
       "13         0.0       0.0     0.0  \n",
       "14         0.0       0.0     0.0  \n",
       "\n",
       "[15 rows x 6511 columns]"
      ]
     },
     "execution_count": 59,
     "metadata": {},
     "output_type": "execute_result"
    }
   ],
   "source": [
    "# have a look at our stemmed data\n",
    "textmatrix = pd.DataFrame(textfeatures.toarray(),columns=vectstem.vocabulary_).head(15)\n",
    "textmatrix"
   ]
  },
  {
   "cell_type": "code",
   "execution_count": 60,
   "metadata": {
    "scrolled": true
   },
   "outputs": [
    {
     "data": {
      "text/html": [
       "<div>\n",
       "<style scoped>\n",
       "    .dataframe tbody tr th:only-of-type {\n",
       "        vertical-align: middle;\n",
       "    }\n",
       "\n",
       "    .dataframe tbody tr th {\n",
       "        vertical-align: top;\n",
       "    }\n",
       "\n",
       "    .dataframe thead th {\n",
       "        text-align: right;\n",
       "    }\n",
       "</style>\n",
       "<table border=\"1\" class=\"dataframe\">\n",
       "  <thead>\n",
       "    <tr style=\"text-align: right;\">\n",
       "      <th></th>\n",
       "      <th>sum_scores_TFIDF</th>\n",
       "    </tr>\n",
       "  </thead>\n",
       "  <tbody>\n",
       "    <tr>\n",
       "      <th>sale</th>\n",
       "      <td>0.000000</td>\n",
       "    </tr>\n",
       "    <tr>\n",
       "      <th>peopl</th>\n",
       "      <td>0.000000</td>\n",
       "    </tr>\n",
       "    <tr>\n",
       "      <th>realli</th>\n",
       "      <td>0.000000</td>\n",
       "    </tr>\n",
       "    <tr>\n",
       "      <th>nice</th>\n",
       "      <td>0.000000</td>\n",
       "    </tr>\n",
       "    <tr>\n",
       "      <th>knowledg</th>\n",
       "      <td>0.000000</td>\n",
       "    </tr>\n",
       "    <tr>\n",
       "      <th>come</th>\n",
       "      <td>0.000000</td>\n",
       "    </tr>\n",
       "    <tr>\n",
       "      <th>back</th>\n",
       "      <td>0.427813</td>\n",
       "    </tr>\n",
       "    <tr>\n",
       "      <th>great</th>\n",
       "      <td>0.000000</td>\n",
       "    </tr>\n",
       "    <tr>\n",
       "      <th>product</th>\n",
       "      <td>0.000000</td>\n",
       "    </tr>\n",
       "    <tr>\n",
       "      <th>servic</th>\n",
       "      <td>0.000000</td>\n",
       "    </tr>\n",
       "  </tbody>\n",
       "</table>\n",
       "</div>"
      ],
      "text/plain": [
       "          sum_scores_TFIDF\n",
       "sale              0.000000\n",
       "peopl             0.000000\n",
       "realli            0.000000\n",
       "nice              0.000000\n",
       "knowledg          0.000000\n",
       "come              0.000000\n",
       "back              0.427813\n",
       "great             0.000000\n",
       "product           0.000000\n",
       "servic            0.000000"
      ]
     },
     "execution_count": 60,
     "metadata": {},
     "output_type": "execute_result"
    }
   ],
   "source": [
    "sum_scores = pd.DataFrame(textmatrix.sum(),columns=['sum_scores_TFIDF'])\n",
    "sum_scores.head(10)"
   ]
  },
  {
   "cell_type": "code",
   "execution_count": 62,
   "metadata": {},
   "outputs": [
    {
     "data": {
      "text/html": [
       "<div>\n",
       "<style scoped>\n",
       "    .dataframe tbody tr th:only-of-type {\n",
       "        vertical-align: middle;\n",
       "    }\n",
       "\n",
       "    .dataframe tbody tr th {\n",
       "        vertical-align: top;\n",
       "    }\n",
       "\n",
       "    .dataframe thead th {\n",
       "        text-align: right;\n",
       "    }\n",
       "</style>\n",
       "<table border=\"1\" class=\"dataframe\">\n",
       "  <thead>\n",
       "    <tr style=\"text-align: right;\">\n",
       "      <th></th>\n",
       "      <th>sum_scores_TFIDF</th>\n",
       "    </tr>\n",
       "  </thead>\n",
       "  <tbody>\n",
       "    <tr>\n",
       "      <th>underpow</th>\n",
       "      <td>1.832239</td>\n",
       "    </tr>\n",
       "    <tr>\n",
       "      <th>slate</th>\n",
       "      <td>1.574400</td>\n",
       "    </tr>\n",
       "    <tr>\n",
       "      <th>alreadygood</th>\n",
       "      <td>1.459379</td>\n",
       "    </tr>\n",
       "    <tr>\n",
       "      <th>25000</th>\n",
       "      <td>1.388765</td>\n",
       "    </tr>\n",
       "    <tr>\n",
       "      <th>forgood</th>\n",
       "      <td>1.133246</td>\n",
       "    </tr>\n",
       "  </tbody>\n",
       "</table>\n",
       "</div>"
      ],
      "text/plain": [
       "             sum_scores_TFIDF\n",
       "underpow             1.832239\n",
       "slate                1.574400\n",
       "alreadygood          1.459379\n",
       "25000                1.388765\n",
       "forgood              1.133246"
      ]
     },
     "execution_count": 62,
     "metadata": {},
     "output_type": "execute_result"
    }
   ],
   "source": [
    "# Need to see most important words in the reviews\n",
    "# high usage of words in reviews\n",
    "sum_scores.sort_values(by='sum_scores_TFIDF',ascending=False)[:5] "
   ]
  },
  {
   "cell_type": "code",
   "execution_count": 63,
   "metadata": {},
   "outputs": [
    {
     "data": {
      "text/html": [
       "<div>\n",
       "<style scoped>\n",
       "    .dataframe tbody tr th:only-of-type {\n",
       "        vertical-align: middle;\n",
       "    }\n",
       "\n",
       "    .dataframe tbody tr th {\n",
       "        vertical-align: top;\n",
       "    }\n",
       "\n",
       "    .dataframe thead th {\n",
       "        text-align: right;\n",
       "    }\n",
       "</style>\n",
       "<table border=\"1\" class=\"dataframe\">\n",
       "  <thead>\n",
       "    <tr style=\"text-align: right;\">\n",
       "      <th></th>\n",
       "      <th>text</th>\n",
       "      <th>rating</th>\n",
       "      <th>recommend</th>\n",
       "    </tr>\n",
       "  </thead>\n",
       "  <tbody>\n",
       "    <tr>\n",
       "      <th>3480</th>\n",
       "      <td>The sales people are really nice and knowledgeable to me I will come back again. Great product</td>\n",
       "      <td>5.0</td>\n",
       "      <td>1</td>\n",
       "    </tr>\n",
       "    <tr>\n",
       "      <th>3481</th>\n",
       "      <td>Great product and service and the sales man r really nice.. Great product</td>\n",
       "      <td>5.0</td>\n",
       "      <td>1</td>\n",
       "    </tr>\n",
       "    <tr>\n",
       "      <th>3482</th>\n",
       "      <td>Great product and service will refer to a friend. And the sales man r good. Great product and service</td>\n",
       "      <td>5.0</td>\n",
       "      <td>1</td>\n",
       "    </tr>\n",
       "    <tr>\n",
       "      <th>3483</th>\n",
       "      <td>very good product and service will refer a friend.. very good product and service.</td>\n",
       "      <td>5.0</td>\n",
       "      <td>1</td>\n",
       "    </tr>\n",
       "    <tr>\n",
       "      <th>3484</th>\n",
       "      <td>Great selections. Hard to find assistance at times.. Good selection.</td>\n",
       "      <td>5.0</td>\n",
       "      <td>1</td>\n",
       "    </tr>\n",
       "  </tbody>\n",
       "</table>\n",
       "</div>"
      ],
      "text/plain": [
       "                                                                                                       text  \\\n",
       "3480  The sales people are really nice and knowledgeable to me I will come back again. Great product          \n",
       "3481  Great product and service and the sales man r really nice.. Great product                               \n",
       "3482  Great product and service will refer to a friend. And the sales man r good. Great product and service   \n",
       "3483  very good product and service will refer a friend.. very good product and service.                      \n",
       "3484  Great selections. Hard to find assistance at times.. Good selection.                                    \n",
       "\n",
       "      rating  recommend  \n",
       "3480  5.0     1          \n",
       "3481  5.0     1          \n",
       "3482  5.0     1          \n",
       "3483  5.0     1          \n",
       "3484  5.0     1          "
      ]
     },
     "execution_count": 63,
     "metadata": {},
     "output_type": "execute_result"
    }
   ],
   "source": [
    "pd.set_option('display.max_colwidth', 0)\n",
    "comments.head()"
   ]
  },
  {
   "cell_type": "markdown",
   "metadata": {},
   "source": [
    "# Sentiment analysis"
   ]
  },
  {
   "cell_type": "code",
   "execution_count": 65,
   "metadata": {},
   "outputs": [],
   "source": [
    "sid = SentimentIntensityAnalyzer()\n",
    "# Feature 1 : Sentiment compound value\n",
    "def sentiment(x):\n",
    "    score = sid.polarity_scores(x)\n",
    "    return score['compound']\n",
    "    \n",
    "#sentiment(happy)\n",
    "comments['sentiment']= comments['text'].apply(lambda x : sentiment(x))"
   ]
  },
  {
   "cell_type": "code",
   "execution_count": 66,
   "metadata": {},
   "outputs": [
    {
     "data": {
      "text/html": [
       "<div>\n",
       "<style scoped>\n",
       "    .dataframe tbody tr th:only-of-type {\n",
       "        vertical-align: middle;\n",
       "    }\n",
       "\n",
       "    .dataframe tbody tr th {\n",
       "        vertical-align: top;\n",
       "    }\n",
       "\n",
       "    .dataframe thead th {\n",
       "        text-align: right;\n",
       "    }\n",
       "</style>\n",
       "<table border=\"1\" class=\"dataframe\">\n",
       "  <thead>\n",
       "    <tr style=\"text-align: right;\">\n",
       "      <th></th>\n",
       "      <th>text</th>\n",
       "      <th>rating</th>\n",
       "      <th>recommend</th>\n",
       "      <th>sentiment</th>\n",
       "      <th>length</th>\n",
       "    </tr>\n",
       "  </thead>\n",
       "  <tbody>\n",
       "    <tr>\n",
       "      <th>3480</th>\n",
       "      <td>The sales people are really nice and knowledgeable to me I will come back again. Great product</td>\n",
       "      <td>5.0</td>\n",
       "      <td>1</td>\n",
       "      <td>0.8016</td>\n",
       "      <td>17</td>\n",
       "    </tr>\n",
       "    <tr>\n",
       "      <th>3481</th>\n",
       "      <td>Great product and service and the sales man r really nice.. Great product</td>\n",
       "      <td>5.0</td>\n",
       "      <td>1</td>\n",
       "      <td>0.8481</td>\n",
       "      <td>13</td>\n",
       "    </tr>\n",
       "    <tr>\n",
       "      <th>3482</th>\n",
       "      <td>Great product and service will refer to a friend. And the sales man r good. Great product and service</td>\n",
       "      <td>5.0</td>\n",
       "      <td>1</td>\n",
       "      <td>0.9360</td>\n",
       "      <td>19</td>\n",
       "    </tr>\n",
       "    <tr>\n",
       "      <th>3483</th>\n",
       "      <td>very good product and service will refer a friend.. very good product and service.</td>\n",
       "      <td>5.0</td>\n",
       "      <td>1</td>\n",
       "      <td>0.7496</td>\n",
       "      <td>15</td>\n",
       "    </tr>\n",
       "    <tr>\n",
       "      <th>3484</th>\n",
       "      <td>Great selections. Hard to find assistance at times.. Good selection.</td>\n",
       "      <td>5.0</td>\n",
       "      <td>1</td>\n",
       "      <td>0.7650</td>\n",
       "      <td>11</td>\n",
       "    </tr>\n",
       "    <tr>\n",
       "      <th>3485</th>\n",
       "      <td>This kindle is a basic and easy to use eReader. Exactly what I wanted. The charge lasts for a long time so you don't have to worry about charging it daily.. Exactly what I wanted</td>\n",
       "      <td>5.0</td>\n",
       "      <td>1</td>\n",
       "      <td>0.6492</td>\n",
       "      <td>36</td>\n",
       "    </tr>\n",
       "    <tr>\n",
       "      <th>3488</th>\n",
       "      <td>Very good reading on this good and strong quality kindle. Great kindle.</td>\n",
       "      <td>5.0</td>\n",
       "      <td>1</td>\n",
       "      <td>0.9298</td>\n",
       "      <td>13</td>\n",
       "    </tr>\n",
       "    <tr>\n",
       "      <th>3490</th>\n",
       "      <td>I particularly like the fact that the text shows up and you can see it well outside on a sunny day. I use it with Kindle Unlimited.. Love it!</td>\n",
       "      <td>5.0</td>\n",
       "      <td>1</td>\n",
       "      <td>0.9039</td>\n",
       "      <td>30</td>\n",
       "    </tr>\n",
       "    <tr>\n",
       "      <th>3492</th>\n",
       "      <td>I purchased this product because I love to read and buying books got costly. With this product I can read all I want for 10.00 a month. Love to read</td>\n",
       "      <td>5.0</td>\n",
       "      <td>1</td>\n",
       "      <td>0.8519</td>\n",
       "      <td>31</td>\n",
       "    </tr>\n",
       "    <tr>\n",
       "      <th>3494</th>\n",
       "      <td>Excellent product very good piece strongly recommend. Great kindle</td>\n",
       "      <td>5.0</td>\n",
       "      <td>1</td>\n",
       "      <td>0.9419</td>\n",
       "      <td>9</td>\n",
       "    </tr>\n",
       "  </tbody>\n",
       "</table>\n",
       "</div>"
      ],
      "text/plain": [
       "                                                                                                                                                                                    text  \\\n",
       "3480  The sales people are really nice and knowledgeable to me I will come back again. Great product                                                                                       \n",
       "3481  Great product and service and the sales man r really nice.. Great product                                                                                                            \n",
       "3482  Great product and service will refer to a friend. And the sales man r good. Great product and service                                                                                \n",
       "3483  very good product and service will refer a friend.. very good product and service.                                                                                                   \n",
       "3484  Great selections. Hard to find assistance at times.. Good selection.                                                                                                                 \n",
       "3485  This kindle is a basic and easy to use eReader. Exactly what I wanted. The charge lasts for a long time so you don't have to worry about charging it daily.. Exactly what I wanted   \n",
       "3488  Very good reading on this good and strong quality kindle. Great kindle.                                                                                                              \n",
       "3490  I particularly like the fact that the text shows up and you can see it well outside on a sunny day. I use it with Kindle Unlimited.. Love it!                                        \n",
       "3492  I purchased this product because I love to read and buying books got costly. With this product I can read all I want for 10.00 a month. Love to read                                 \n",
       "3494  Excellent product very good piece strongly recommend. Great kindle                                                                                                                   \n",
       "\n",
       "      rating  recommend  sentiment  length  \n",
       "3480  5.0     1          0.8016     17      \n",
       "3481  5.0     1          0.8481     13      \n",
       "3482  5.0     1          0.9360     19      \n",
       "3483  5.0     1          0.7496     15      \n",
       "3484  5.0     1          0.7650     11      \n",
       "3485  5.0     1          0.6492     36      \n",
       "3488  5.0     1          0.9298     13      \n",
       "3490  5.0     1          0.9039     30      \n",
       "3492  5.0     1          0.8519     31      \n",
       "3494  5.0     1          0.9419     9       "
      ]
     },
     "execution_count": 66,
     "metadata": {},
     "output_type": "execute_result"
    }
   ],
   "source": [
    "# Feature 2 : Length of string\n",
    "\n",
    "comments['length'] = comments['text'].apply(lambda x : len(re.split('\\W+',x)))\n",
    "comments[comments['rating']==5].head(10)"
   ]
  },
  {
   "cell_type": "code",
   "execution_count": 67,
   "metadata": {},
   "outputs": [
    {
     "data": {
      "text/html": [
       "<div>\n",
       "<style scoped>\n",
       "    .dataframe tbody tr th:only-of-type {\n",
       "        vertical-align: middle;\n",
       "    }\n",
       "\n",
       "    .dataframe tbody tr th {\n",
       "        vertical-align: top;\n",
       "    }\n",
       "\n",
       "    .dataframe thead th {\n",
       "        text-align: right;\n",
       "    }\n",
       "</style>\n",
       "<table border=\"1\" class=\"dataframe\">\n",
       "  <thead>\n",
       "    <tr style=\"text-align: right;\">\n",
       "      <th></th>\n",
       "      <th>text</th>\n",
       "      <th>rating</th>\n",
       "      <th>recommend</th>\n",
       "      <th>sentiment</th>\n",
       "      <th>length</th>\n",
       "    </tr>\n",
       "  </thead>\n",
       "  <tbody>\n",
       "    <tr>\n",
       "      <th>3544</th>\n",
       "      <td>Am used to Kindle Fire which I love. No light to read by in the dark. Hard to navigate. This was a gift - would never purchase on my own.. HATE IT!!!!!</td>\n",
       "      <td>1.0</td>\n",
       "      <td>0</td>\n",
       "      <td>-0.5425</td>\n",
       "      <td>32</td>\n",
       "    </tr>\n",
       "    <tr>\n",
       "      <th>3824</th>\n",
       "      <td>This device is OK for reading or listening to audiobooks via Overdrive app. Wouldn't recommend it though really. Waited to buy Kindle for years. Would suggest doing research before buying this device.. Extremely slow</td>\n",
       "      <td>1.0</td>\n",
       "      <td>0</td>\n",
       "      <td>0.2079</td>\n",
       "      <td>35</td>\n",
       "    </tr>\n",
       "    <tr>\n",
       "      <th>3853</th>\n",
       "      <td>Not Kid friendly at all. Purchased for little nephew. Wasn't given any info on it for sales person either. Took back!!!. Terrible</td>\n",
       "      <td>1.0</td>\n",
       "      <td>0</td>\n",
       "      <td>-0.7652</td>\n",
       "      <td>23</td>\n",
       "    </tr>\n",
       "    <tr>\n",
       "      <th>3855</th>\n",
       "      <td>Screen was cracked but the package did arrive earlier than expected. Arrived broken</td>\n",
       "      <td>1.0</td>\n",
       "      <td>0</td>\n",
       "      <td>-0.6310</td>\n",
       "      <td>13</td>\n",
       "    </tr>\n",
       "    <tr>\n",
       "      <th>3900</th>\n",
       "      <td>Purchased two of these tablets. Both of them had 4-7 dead pixels all over the screen. Read a lot of online reviews which stated same problem. The screen/resolution is pretty bad but what can you expect for $50.. Ok tablet I must have got 2 bad ones</td>\n",
       "      <td>1.0</td>\n",
       "      <td>0</td>\n",
       "      <td>-0.7650</td>\n",
       "      <td>49</td>\n",
       "    </tr>\n",
       "  </tbody>\n",
       "</table>\n",
       "</div>"
      ],
      "text/plain": [
       "                                                                                                                                                                                                                                                          text  \\\n",
       "3544  Am used to Kindle Fire which I love. No light to read by in the dark. Hard to navigate. This was a gift - would never purchase on my own.. HATE IT!!!!!                                                                                                    \n",
       "3824  This device is OK for reading or listening to audiobooks via Overdrive app. Wouldn't recommend it though really. Waited to buy Kindle for years. Would suggest doing research before buying this device.. Extremely slow                                   \n",
       "3853  Not Kid friendly at all. Purchased for little nephew. Wasn't given any info on it for sales person either. Took back!!!. Terrible                                                                                                                          \n",
       "3855  Screen was cracked but the package did arrive earlier than expected. Arrived broken                                                                                                                                                                        \n",
       "3900  Purchased two of these tablets. Both of them had 4-7 dead pixels all over the screen. Read a lot of online reviews which stated same problem. The screen/resolution is pretty bad but what can you expect for $50.. Ok tablet I must have got 2 bad ones   \n",
       "\n",
       "      rating  recommend  sentiment  length  \n",
       "3544  1.0     0         -0.5425     32      \n",
       "3824  1.0     0          0.2079     35      \n",
       "3853  1.0     0         -0.7652     23      \n",
       "3855  1.0     0         -0.6310     13      \n",
       "3900  1.0     0         -0.7650     49      "
      ]
     },
     "execution_count": 67,
     "metadata": {},
     "output_type": "execute_result"
    }
   ],
   "source": [
    "comments[comments['rating']==1].head(5)"
   ]
  },
  {
   "cell_type": "markdown",
   "metadata": {},
   "source": [
    "### Get raw sentiment score magnifier from counting exlamation marks and full cap words"
   ]
  },
  {
   "cell_type": "code",
   "execution_count": 85,
   "metadata": {},
   "outputs": [],
   "source": [
    "def get_cap_and_exclamation_score(line):\n",
    "    # 1+ len is to make sure the value is at least 1, for later use to multiply with other factors.\n",
    "    return 1+len(re.findall(r'!{2,}', line)) + len(re.findall(r'[A-Z]{2,}', line))\n",
    "\n",
    "comments['strong_sentiment'] = comments['text'].apply(get_cap_and_exclamation_score)"
   ]
  },
  {
   "cell_type": "code",
   "execution_count": 87,
   "metadata": {
    "colab": {},
    "colab_type": "code",
    "id": "sq5Yu8r9CuLP"
   },
   "outputs": [],
   "source": [
    "def tokenize(text):\n",
    "    min_length = 3\n",
    "    # tokenize\n",
    "    # convert to lower case\n",
    "    words = map(lambda word: word.lower(), word_tokenize(text))\n",
    "    # remove stop words and punctuation\n",
    "    words = [word for word in words if word not in cachedStopWords]\n",
    "    # steming\n",
    "    tokens = list(map(lambda token: PorterStemmer().stem(token), words))\n",
    "    # lemmatize\n",
    "    lemmas = [WordNetLemmatizer().lemmatize(word) for word in tokens]\n",
    "    # only focus on alphabetic words\n",
    "    p = re.compile('[a-zA-Z]+')\n",
    "    \n",
    "    filtered_lemmas = list(filter(lambda lemma: p.match(lemma) and len(lemma) >= min_length, lemmas))\n",
    "    return filtered_lemmas"
   ]
  },
  {
   "cell_type": "code",
   "execution_count": 88,
   "metadata": {},
   "outputs": [],
   "source": [
    "comments['text_clean']=comments['text'].astype('U').apply(tokenize)"
   ]
  },
  {
   "cell_type": "code",
   "execution_count": 93,
   "metadata": {},
   "outputs": [
    {
     "data": {
      "text/html": [
       "<div>\n",
       "<style scoped>\n",
       "    .dataframe tbody tr th:only-of-type {\n",
       "        vertical-align: middle;\n",
       "    }\n",
       "\n",
       "    .dataframe tbody tr th {\n",
       "        vertical-align: top;\n",
       "    }\n",
       "\n",
       "    .dataframe thead th {\n",
       "        text-align: right;\n",
       "    }\n",
       "</style>\n",
       "<table border=\"1\" class=\"dataframe\">\n",
       "  <thead>\n",
       "    <tr style=\"text-align: right;\">\n",
       "      <th></th>\n",
       "      <th>text</th>\n",
       "      <th>rating</th>\n",
       "      <th>recommend</th>\n",
       "      <th>sentiment</th>\n",
       "      <th>length</th>\n",
       "      <th>strong_sentiment</th>\n",
       "      <th>text_clean</th>\n",
       "      <th>topics</th>\n",
       "    </tr>\n",
       "  </thead>\n",
       "  <tbody>\n",
       "    <tr>\n",
       "      <th>3480</th>\n",
       "      <td>The sales people are really nice and knowledgeable to me I will come back again. Great product</td>\n",
       "      <td>5.0</td>\n",
       "      <td>1</td>\n",
       "      <td>0.8016</td>\n",
       "      <td>17</td>\n",
       "      <td>1</td>\n",
       "      <td>[sale, peopl, realli, nice, knowledg, come, back, great, product]</td>\n",
       "      <td>[nice, peopl, realli]</td>\n",
       "    </tr>\n",
       "    <tr>\n",
       "      <th>3481</th>\n",
       "      <td>Great product and service and the sales man r really nice.. Great product</td>\n",
       "      <td>5.0</td>\n",
       "      <td>1</td>\n",
       "      <td>0.8481</td>\n",
       "      <td>13</td>\n",
       "      <td>1</td>\n",
       "      <td>[great, product, servic, sale, man, realli, nice.., great, product]</td>\n",
       "      <td>[great, product, man]</td>\n",
       "    </tr>\n",
       "    <tr>\n",
       "      <th>3482</th>\n",
       "      <td>Great product and service will refer to a friend. And the sales man r good. Great product and service</td>\n",
       "      <td>5.0</td>\n",
       "      <td>1</td>\n",
       "      <td>0.9360</td>\n",
       "      <td>19</td>\n",
       "      <td>1</td>\n",
       "      <td>[great, product, servic, refer, friend, sale, man, good, great, product, servic]</td>\n",
       "      <td>[great, product, servic]</td>\n",
       "    </tr>\n",
       "    <tr>\n",
       "      <th>3483</th>\n",
       "      <td>very good product and service will refer a friend.. very good product and service.</td>\n",
       "      <td>5.0</td>\n",
       "      <td>1</td>\n",
       "      <td>0.7496</td>\n",
       "      <td>15</td>\n",
       "      <td>1</td>\n",
       "      <td>[good, product, servic, refer, friend.., good, product, servic]</td>\n",
       "      <td>[product, good, servic]</td>\n",
       "    </tr>\n",
       "    <tr>\n",
       "      <th>3484</th>\n",
       "      <td>Great selections. Hard to find assistance at times.. Good selection.</td>\n",
       "      <td>5.0</td>\n",
       "      <td>1</td>\n",
       "      <td>0.7650</td>\n",
       "      <td>11</td>\n",
       "      <td>1</td>\n",
       "      <td>[great, select, hard, find, assist, times.., good, select]</td>\n",
       "      <td>[select, assist]</td>\n",
       "    </tr>\n",
       "  </tbody>\n",
       "</table>\n",
       "</div>"
      ],
      "text/plain": [
       "                                                                                                       text  \\\n",
       "3480  The sales people are really nice and knowledgeable to me I will come back again. Great product          \n",
       "3481  Great product and service and the sales man r really nice.. Great product                               \n",
       "3482  Great product and service will refer to a friend. And the sales man r good. Great product and service   \n",
       "3483  very good product and service will refer a friend.. very good product and service.                      \n",
       "3484  Great selections. Hard to find assistance at times.. Good selection.                                    \n",
       "\n",
       "      rating  recommend  sentiment  length  strong_sentiment  \\\n",
       "3480  5.0     1          0.8016     17      1                  \n",
       "3481  5.0     1          0.8481     13      1                  \n",
       "3482  5.0     1          0.9360     19      1                  \n",
       "3483  5.0     1          0.7496     15      1                  \n",
       "3484  5.0     1          0.7650     11      1                  \n",
       "\n",
       "                                                                            text_clean  \\\n",
       "3480  [sale, peopl, realli, nice, knowledg, come, back, great, product]                  \n",
       "3481  [great, product, servic, sale, man, realli, nice.., great, product]                \n",
       "3482  [great, product, servic, refer, friend, sale, man, good, great, product, servic]   \n",
       "3483  [good, product, servic, refer, friend.., good, product, servic]                    \n",
       "3484  [great, select, hard, find, assist, times.., good, select]                         \n",
       "\n",
       "                        topics  \n",
       "3480  [nice, peopl, realli]     \n",
       "3481  [great, product, man]     \n",
       "3482  [great, product, servic]  \n",
       "3483  [product, good, servic]   \n",
       "3484  [select, assist]          "
      ]
     },
     "execution_count": 93,
     "metadata": {},
     "output_type": "execute_result"
    }
   ],
   "source": [
    "comments.head()"
   ]
  },
  {
   "cell_type": "markdown",
   "metadata": {},
   "source": [
    "### Use LDA to explore topics as a feature"
   ]
  },
  {
   "cell_type": "code",
   "execution_count": 90,
   "metadata": {},
   "outputs": [],
   "source": [
    "dictionary = Dictionary(comments['text_clean'])"
   ]
  },
  {
   "cell_type": "code",
   "execution_count": 91,
   "metadata": {},
   "outputs": [],
   "source": [
    "def get_topics_(tokenized_words):\n",
    "    new_doc_bow = [dictionary.doc2bow(tokenized_words)]\n",
    "    model_ = LdaModel(new_doc_bow, num_topics=1, id2word=dictionary, passes=5)\n",
    "    return [topic.replace('\"','') for topic in re.findall(r'\"\\w+\"', list(*model_.print_topics(num_words=3))[1])]"
   ]
  },
  {
   "cell_type": "code",
   "execution_count": 92,
   "metadata": {},
   "outputs": [],
   "source": [
    "comments['topics']=comments['text_clean'].apply(get_topics_)"
   ]
  },
  {
   "cell_type": "code",
   "execution_count": 95,
   "metadata": {},
   "outputs": [],
   "source": [
    "tfidf_v = TfidfVectorizer()\n",
    "topicfeatures=tfidf_v.fit_transform(comments['topics'].apply(lambda x: ' '.join(x)))"
   ]
  },
  {
   "cell_type": "markdown",
   "metadata": {},
   "source": [
    "# apply compound ranking"
   ]
  },
  {
   "cell_type": "code",
   "execution_count": 97,
   "metadata": {},
   "outputs": [],
   "source": [
    "comments['compound_score'] = 5*comments['sentiment']+2*comments['length']+10*comments['strong_sentiment']"
   ]
  },
  {
   "cell_type": "markdown",
   "metadata": {},
   "source": [
    "# fit data with random forest model"
   ]
  },
  {
   "cell_type": "code",
   "execution_count": 99,
   "metadata": {},
   "outputs": [
    {
     "data": {
      "text/plain": [
       "[(0.055525465664453606, 'sentiment'),\n",
       " (0.015858811309332903, 'one1'),\n",
       " (0.014776007868285307, 'toilet'),\n",
       " (0.013047306155094442, 'onei'),\n",
       " (0.012775289607416623, 'minu'),\n",
       " (0.011485563480497674, 'compound_score'),\n",
       " (0.010780946836450565, 'length'),\n",
       " (0.007132768045316964, 'youtubepandora'),\n",
       " (0.00651520350930046, 'preload'),\n",
       " (0.005778959784987658, 'lay')]"
      ]
     },
     "execution_count": 99,
     "metadata": {},
     "output_type": "execute_result"
    }
   ],
   "source": [
    "from sklearn.ensemble import RandomForestClassifier\n",
    "from sklearn.metrics import precision_recall_fscore_support as score\n",
    "from sklearn.model_selection import train_test_split\n",
    "\n",
    "# need to reset index of the comments column to match with textfeatures\n",
    "new_sentiment = comments.sentiment.reset_index()['sentiment']\n",
    "new_length = comments.length.reset_index()['length']\n",
    "compound_score = comments.compound_score.reset_index()['compound_score']\n",
    "strong_sentiment = comments['strong_sentiment'].reset_index()['strong_sentiment']\n",
    "\n",
    "x_features = pd.concat([new_sentiment,\n",
    "                        new_length,\n",
    "                        compound_score,\n",
    "                        pd.DataFrame(topicfeatures.toarray(),\n",
    "                        columns=tfidf_v.vocabulary_),\n",
    "                        pd.DataFrame(textfeatures.toarray(),\n",
    "                        columns=vectstem.vocabulary_)],axis=1)\n",
    "x_train, x_test, y_train, y_test = train_test_split(x_features,comments.recommend,test_size=0.2)\n",
    "\n",
    "rf = RandomForestClassifier(n_jobs=-1,n_estimators=50,max_depth=90)\n",
    "rfmodel=rf.fit(x_train,y_train)\n",
    "\n",
    "y_pred = rfmodel.predict(x_test)\n",
    "sorted(zip(rfmodel.feature_importances_,x_train.columns),reverse=True)[0:10]"
   ]
  },
  {
   "cell_type": "code",
   "execution_count": 100,
   "metadata": {},
   "outputs": [
    {
     "name": "stdout",
     "output_type": "stream",
     "text": [
      "Precision: 0.948 / Recall :0.999 / Accuracy 0.948 \n"
     ]
    }
   ],
   "source": [
    "precision, recall, fscore , support = score(y_test,y_pred,average='binary')\n",
    "print('Precision: {} / Recall :{} / Accuracy {} '.format(round(precision,3),\n",
    "                                                         round(recall,3),\n",
    "                                                         round((y_pred==y_test).sum()/len(y_test),3)))"
   ]
  },
  {
   "cell_type": "markdown",
   "metadata": {},
   "source": [
    "# Using features such as sentiment compound value and length of reviews, a random forest model fits and predict very well to the test set, with Precision: 0.948 / Recall :0.999 / Accuracy 0.948"
   ]
  }
 ],
 "metadata": {
  "colab": {
   "collapsed_sections": [],
   "name": "YuXu_word2vec_doc2vec_fake_news.ipynb",
   "provenance": [],
   "version": "0.3.2"
  },
  "kernelspec": {
   "display_name": "Python 3",
   "language": "python",
   "name": "python3"
  },
  "language_info": {
   "codemirror_mode": {
    "name": "ipython",
    "version": 3
   },
   "file_extension": ".py",
   "mimetype": "text/x-python",
   "name": "python",
   "nbconvert_exporter": "python",
   "pygments_lexer": "ipython3",
   "version": "3.6.7"
  }
 },
 "nbformat": 4,
 "nbformat_minor": 1
}
